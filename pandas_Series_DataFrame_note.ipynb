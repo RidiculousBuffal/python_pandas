{
 "cells": [
  {
   "cell_type": "code",
   "execution_count": 207,
   "metadata": {
    "ExecuteTime": {
     "end_time": "2023-08-28T10:03:48.086817400Z",
     "start_time": "2023-08-28T10:03:46.866136300Z"
    }
   },
   "outputs": [
    {
     "name": "stdout",
     "output_type": "stream",
     "text": [
      "hi\n"
     ]
    }
   ],
   "source": [
    "print(\"hi\")"
   ]
  },
  {
   "cell_type": "markdown",
   "metadata": {},
   "source": [
    "# 快速开始"
   ]
  },
  {
   "cell_type": "code",
   "execution_count": 208,
   "metadata": {
    "ExecuteTime": {
     "end_time": "2023-08-28T10:03:48.687939400Z",
     "start_time": "2023-08-28T10:03:46.891175Z"
    },
    "collapsed": true
   },
   "outputs": [],
   "source": [
    "import numpy as np\n",
    "import pandas as pd"
   ]
  },
  {
   "cell_type": "markdown",
   "metadata": {},
   "source": [
    "# Series (系列/列表)\n",
    "- Series 是一个一维的数组,里面可以是任意的数据类型,整数,字符串等等....\n",
    "- 其常用的创建格式如下\n",
    "```python\n",
    "import pandas as pd\n",
    "s = pd.Series(data,index=index)\n",
    "```\n",
    "其中 `index`是一个列表,存放着各个列的标签如果`data`是个存放$n$个元素的列表,那么`index`的长度应和`data`一样,也是$n$"
   ]
  },
  {
   "cell_type": "markdown",
   "metadata": {},
   "source": [
    "## 从数组创建系列(Series)"
   ]
  },
  {
   "cell_type": "code",
   "execution_count": 209,
   "metadata": {
    "ExecuteTime": {
     "end_time": "2023-08-28T10:03:48.700927400Z",
     "start_time": "2023-08-28T10:03:46.922173500Z"
    }
   },
   "outputs": [
    {
     "data": {
      "text/plain": [
       "a    0.074406\n",
       "b   -0.198687\n",
       "c    0.358383\n",
       "d    0.808076\n",
       "e   -0.404227\n",
       "dtype: float64"
      ]
     },
     "execution_count": 209,
     "metadata": {},
     "output_type": "execute_result"
    }
   ],
   "source": [
    "s= pd.Series(np.random.randn(5),index=['a','b','c','d','e'])\n",
    "s"
   ]
  },
  {
   "cell_type": "code",
   "execution_count": 210,
   "metadata": {
    "ExecuteTime": {
     "end_time": "2023-08-28T10:03:48.704935100Z",
     "start_time": "2023-08-28T10:03:46.944174200Z"
    }
   },
   "outputs": [
    {
     "data": {
      "text/plain": [
       "Index(['a', 'b', 'c', 'd', 'e'], dtype='object')"
      ]
     },
     "execution_count": 210,
     "metadata": {},
     "output_type": "execute_result"
    }
   ],
   "source": [
    "s.index"
   ]
  },
  {
   "cell_type": "markdown",
   "metadata": {},
   "source": [
    "*在`pandas`中，索引值可以不唯一，即可以存在重复的索引值。这种设计允许用户在数据集中使用相同的索引值来标识不同的数据行。然而，某些操作可能要求索引值是唯一的，例如合并数据集或执行聚合操作等。如果在这些操作中尝试使用不支持重复索引值的方法，将会在操作时引发一个异常。这个异常是`pandas`提供的一种错误提示机制，用于指示当前操作不兼容当前的索引设置。*"
   ]
  },
  {
   "cell_type": "markdown",
   "metadata": {},
   "source": [
    "## 从字典创建系列"
   ]
  },
  {
   "cell_type": "code",
   "execution_count": 211,
   "metadata": {
    "ExecuteTime": {
     "end_time": "2023-08-28T10:03:48.712929400Z",
     "start_time": "2023-08-28T10:03:46.964193100Z"
    }
   },
   "outputs": [
    {
     "data": {
      "text/plain": [
       "b    1\n",
       "a    0\n",
       "c    2\n",
       "dtype: int64"
      ]
     },
     "execution_count": 211,
     "metadata": {},
     "output_type": "execute_result"
    }
   ],
   "source": [
    "d = {\n",
    "    'b':1,\n",
    "    'a':0,\n",
    "    'c':2\n",
    "}\n",
    "pd.Series(d)"
   ]
  },
  {
   "cell_type": "markdown",
   "metadata": {},
   "source": [
    "- 在将字典`dict`转换为`Pandas`的`Series`对象时，可以传递一个索引`index`给`Series`构造函数。索引是一组标签，用于标识数据中的每个值。如果传递了一个索引，那么在转换过程中，将会从数据`data`中提取与索引标签对应的值，并按照索引的顺序创建`Series`对象。"
   ]
  },
  {
   "cell_type": "code",
   "execution_count": 212,
   "metadata": {
    "ExecuteTime": {
     "end_time": "2023-08-28T10:03:48.712929400Z",
     "start_time": "2023-08-28T10:03:46.973173300Z"
    }
   },
   "outputs": [
    {
     "data": {
      "text/plain": [
       "b    1.0\n",
       "c    2.0\n",
       "d    NaN\n",
       "a    0.0\n",
       "dtype: float64"
      ]
     },
     "execution_count": 212,
     "metadata": {},
     "output_type": "execute_result"
    }
   ],
   "source": [
    "pd.Series(d,index=['b','c','d','a'])"
   ]
  },
  {
   "cell_type": "markdown",
   "metadata": {},
   "source": [
    "*NaN (not a number) is the standard missing data marker used in pandas.*"
   ]
  },
  {
   "cell_type": "markdown",
   "metadata": {},
   "source": [
    "## 从常数创建系列\n",
    "-可以从常数创建一个`Series `,其创建后的长度取决于`index`的长度"
   ]
  },
  {
   "cell_type": "code",
   "execution_count": 213,
   "metadata": {
    "ExecuteTime": {
     "end_time": "2023-08-28T10:03:48.716930900Z",
     "start_time": "2023-08-28T10:03:47.003174300Z"
    }
   },
   "outputs": [
    {
     "data": {
      "text/plain": [
       "a    5\n",
       "b    5\n",
       "c    5\n",
       "d    5\n",
       "e    5\n",
       "dtype: int64"
      ]
     },
     "execution_count": 213,
     "metadata": {},
     "output_type": "execute_result"
    }
   ],
   "source": [
    "pd.Series(5,index=['a','b','c','d','e'])"
   ]
  },
  {
   "cell_type": "markdown",
   "metadata": {},
   "source": [
    "## 系列(Series)和多维数组(ndarray)很像\n",
    "`ndarray`是`NumPy`库中的一个重要数据结构，它代表多维数组（n-dimensional array）。\n",
    "\n",
    "`ndarray`是`NumPy`(`Numerical Python`)库的核心对象之一，它是一个多维、固定大小的数组，其中的元素必须是相同类型的。它可以是一维、二维或更高维度的数组，可以包含整数、浮点数、布尔值、字符串等各种数据类型。\n",
    "\n",
    "`ndarray`在数据分析和科学计算中被广泛使用，它提供了高效的存储和处理多维数据的能力。通过使用`NumPy`的函数和方法，可以对`ndarray`进行各种数学运算、统计分析、数组操作和广播等操作。\n",
    "\n",
    "`ndarray`不同于`Python`内置的列表`list`数据结构，它具有更高的性能和更丰富的操作功能，特别适合处理大规模数据和进行数值计算。\n",
    "`Series`的操作方法和`ndarray`很相似,以及在*绝大多数时候*都能被作为参数传入`numpy`"
   ]
  },
  {
   "cell_type": "code",
   "execution_count": 214,
   "metadata": {
    "ExecuteTime": {
     "end_time": "2023-08-28T10:03:48.733932200Z",
     "start_time": "2023-08-28T10:03:47.027183600Z"
    }
   },
   "outputs": [
    {
     "data": {
      "text/plain": [
       "0.07440638791818803"
      ]
     },
     "execution_count": 214,
     "metadata": {},
     "output_type": "execute_result"
    }
   ],
   "source": [
    "s[0]"
   ]
  },
  {
   "cell_type": "code",
   "execution_count": 215,
   "metadata": {
    "ExecuteTime": {
     "end_time": "2023-08-28T10:03:48.733932200Z",
     "start_time": "2023-08-28T10:03:47.033809400Z"
    }
   },
   "outputs": [
    {
     "data": {
      "text/plain": [
       "a    0.074406\n",
       "b   -0.198687\n",
       "c    0.358383\n",
       "dtype: float64"
      ]
     },
     "execution_count": 215,
     "metadata": {},
     "output_type": "execute_result"
    }
   ],
   "source": [
    "#切片方法\n",
    "s[:3]"
   ]
  },
  {
   "cell_type": "code",
   "execution_count": 216,
   "metadata": {
    "ExecuteTime": {
     "end_time": "2023-08-28T10:03:48.741935Z",
     "start_time": "2023-08-28T10:03:47.048807500Z"
    }
   },
   "outputs": [
    {
     "data": {
      "text/plain": [
       "a    1.077244\n",
       "b    0.819806\n",
       "c    1.431014\n",
       "d    2.243587\n",
       "e    0.667492\n",
       "dtype: float64"
      ]
     },
     "execution_count": 216,
     "metadata": {},
     "output_type": "execute_result"
    }
   ],
   "source": [
    "#numpy 方法\n",
    "np.exp(s)"
   ]
  },
  {
   "cell_type": "markdown",
   "metadata": {},
   "source": [
    "具体而言，`np.exp`函数用于计算自然指数函数，即`e`的$x$次幂。这里的$e$是自然对数的底数，约等于$2.71828$"
   ]
  },
  {
   "cell_type": "markdown",
   "metadata": {},
   "source": [
    "-与`numpy`数组一样,`Series`也具有`dtype`(`DataType`数据类型)"
   ]
  },
  {
   "cell_type": "code",
   "execution_count": 217,
   "metadata": {
    "ExecuteTime": {
     "end_time": "2023-08-28T10:03:48.741935Z",
     "start_time": "2023-08-28T10:03:47.064808600Z"
    }
   },
   "outputs": [
    {
     "data": {
      "text/plain": [
       "dtype('float64')"
      ]
     },
     "execution_count": 217,
     "metadata": {},
     "output_type": "execute_result"
    }
   ],
   "source": [
    "s.dtype"
   ]
  },
  {
   "cell_type": "markdown",
   "metadata": {},
   "source": [
    "-想要返回一个*不含索引*的数组,可以使用`.array`方法"
   ]
  },
  {
   "cell_type": "code",
   "execution_count": 218,
   "metadata": {
    "ExecuteTime": {
     "end_time": "2023-08-28T10:03:48.749929100Z",
     "start_time": "2023-08-28T10:03:47.082808500Z"
    }
   },
   "outputs": [
    {
     "data": {
      "text/plain": [
       "<PandasArray>\n",
       "[ 0.07440638791818803, -0.19868708482466543,   0.3583831444457036,\n",
       "   0.8080758166300783, -0.40422715197258907]\n",
       "Length: 5, dtype: float64"
      ]
     },
     "execution_count": 218,
     "metadata": {},
     "output_type": "execute_result"
    }
   ],
   "source": [
    "s.array"
   ]
  },
  {
   "cell_type": "markdown",
   "metadata": {},
   "source": [
    "-也可以变成一个`numpy`数组"
   ]
  },
  {
   "cell_type": "code",
   "execution_count": 219,
   "metadata": {
    "ExecuteTime": {
     "end_time": "2023-08-28T10:03:48.774989300Z",
     "start_time": "2023-08-28T10:03:47.102807800Z"
    }
   },
   "outputs": [
    {
     "data": {
      "text/plain": [
       "array([ 0.07440639, -0.19868708,  0.35838314,  0.80807582, -0.40422715])"
      ]
     },
     "execution_count": 219,
     "metadata": {},
     "output_type": "execute_result"
    }
   ],
   "source": [
    "s.to_numpy()"
   ]
  },
  {
   "cell_type": "markdown",
   "metadata": {},
   "source": [
    "## 系列(Series)和字典(dict)很像"
   ]
  },
  {
   "cell_type": "markdown",
   "metadata": {},
   "source": [
    "-支持通过标签的值定位数据"
   ]
  },
  {
   "cell_type": "code",
   "execution_count": 220,
   "metadata": {
    "ExecuteTime": {
     "end_time": "2023-08-28T10:03:48.777992100Z",
     "start_time": "2023-08-28T10:03:47.135822500Z"
    }
   },
   "outputs": [
    {
     "data": {
      "text/plain": [
       "-0.40422715197258907"
      ]
     },
     "execution_count": 220,
     "metadata": {},
     "output_type": "execute_result"
    }
   ],
   "source": [
    "s['e']"
   ]
  },
  {
   "cell_type": "markdown",
   "metadata": {},
   "source": [
    "-支持判断标签是否存在于系列中"
   ]
  },
  {
   "cell_type": "code",
   "execution_count": 221,
   "metadata": {
    "ExecuteTime": {
     "end_time": "2023-08-28T10:03:48.784935200Z",
     "start_time": "2023-08-28T10:03:47.154809800Z"
    }
   },
   "outputs": [
    {
     "data": {
      "text/plain": [
       "True"
      ]
     },
     "execution_count": 221,
     "metadata": {},
     "output_type": "execute_result"
    }
   ],
   "source": [
    "'e' in s"
   ]
  },
  {
   "cell_type": "markdown",
   "metadata": {},
   "source": [
    "-遇到不存在的索引会报错"
   ]
  },
  {
   "cell_type": "code",
   "execution_count": 222,
   "metadata": {
    "ExecuteTime": {
     "end_time": "2023-08-28T10:03:48.811935Z",
     "start_time": "2023-08-28T10:03:47.174821700Z"
    }
   },
   "outputs": [
    {
     "ename": "KeyError",
     "evalue": "'f'",
     "output_type": "error",
     "traceback": [
      "\u001B[1;31m---------------------------------------------------------------------------\u001B[0m",
      "\u001B[1;31mKeyError\u001B[0m                                  Traceback (most recent call last)",
      "File \u001B[1;32mE:\\pythonProject4\\venv\\lib\\site-packages\\pandas\\core\\indexes\\base.py:3653\u001B[0m, in \u001B[0;36mIndex.get_loc\u001B[1;34m(self, key)\u001B[0m\n\u001B[0;32m   3652\u001B[0m \u001B[38;5;28;01mtry\u001B[39;00m:\n\u001B[1;32m-> 3653\u001B[0m     \u001B[38;5;28;01mreturn\u001B[39;00m \u001B[38;5;28;43mself\u001B[39;49m\u001B[38;5;241;43m.\u001B[39;49m\u001B[43m_engine\u001B[49m\u001B[38;5;241;43m.\u001B[39;49m\u001B[43mget_loc\u001B[49m\u001B[43m(\u001B[49m\u001B[43mcasted_key\u001B[49m\u001B[43m)\u001B[49m\n\u001B[0;32m   3654\u001B[0m \u001B[38;5;28;01mexcept\u001B[39;00m \u001B[38;5;167;01mKeyError\u001B[39;00m \u001B[38;5;28;01mas\u001B[39;00m err:\n",
      "File \u001B[1;32mE:\\pythonProject4\\venv\\lib\\site-packages\\pandas\\_libs\\index.pyx:147\u001B[0m, in \u001B[0;36mpandas._libs.index.IndexEngine.get_loc\u001B[1;34m()\u001B[0m\n",
      "File \u001B[1;32mE:\\pythonProject4\\venv\\lib\\site-packages\\pandas\\_libs\\index.pyx:176\u001B[0m, in \u001B[0;36mpandas._libs.index.IndexEngine.get_loc\u001B[1;34m()\u001B[0m\n",
      "File \u001B[1;32mpandas\\_libs\\hashtable_class_helper.pxi:7080\u001B[0m, in \u001B[0;36mpandas._libs.hashtable.PyObjectHashTable.get_item\u001B[1;34m()\u001B[0m\n",
      "File \u001B[1;32mpandas\\_libs\\hashtable_class_helper.pxi:7088\u001B[0m, in \u001B[0;36mpandas._libs.hashtable.PyObjectHashTable.get_item\u001B[1;34m()\u001B[0m\n",
      "\u001B[1;31mKeyError\u001B[0m: 'f'",
      "\nThe above exception was the direct cause of the following exception:\n",
      "\u001B[1;31mKeyError\u001B[0m                                  Traceback (most recent call last)",
      "Cell \u001B[1;32mIn[222], line 1\u001B[0m\n\u001B[1;32m----> 1\u001B[0m \u001B[43ms\u001B[49m\u001B[43m[\u001B[49m\u001B[38;5;124;43m'\u001B[39;49m\u001B[38;5;124;43mf\u001B[39;49m\u001B[38;5;124;43m'\u001B[39;49m\u001B[43m]\u001B[49m\n",
      "File \u001B[1;32mE:\\pythonProject4\\venv\\lib\\site-packages\\pandas\\core\\series.py:1007\u001B[0m, in \u001B[0;36mSeries.__getitem__\u001B[1;34m(self, key)\u001B[0m\n\u001B[0;32m   1004\u001B[0m     \u001B[38;5;28;01mreturn\u001B[39;00m \u001B[38;5;28mself\u001B[39m\u001B[38;5;241m.\u001B[39m_values[key]\n\u001B[0;32m   1006\u001B[0m \u001B[38;5;28;01melif\u001B[39;00m key_is_scalar:\n\u001B[1;32m-> 1007\u001B[0m     \u001B[38;5;28;01mreturn\u001B[39;00m \u001B[38;5;28;43mself\u001B[39;49m\u001B[38;5;241;43m.\u001B[39;49m\u001B[43m_get_value\u001B[49m\u001B[43m(\u001B[49m\u001B[43mkey\u001B[49m\u001B[43m)\u001B[49m\n\u001B[0;32m   1009\u001B[0m \u001B[38;5;28;01mif\u001B[39;00m is_hashable(key):\n\u001B[0;32m   1010\u001B[0m     \u001B[38;5;66;03m# Otherwise index.get_value will raise InvalidIndexError\u001B[39;00m\n\u001B[0;32m   1011\u001B[0m     \u001B[38;5;28;01mtry\u001B[39;00m:\n\u001B[0;32m   1012\u001B[0m         \u001B[38;5;66;03m# For labels that don't resolve as scalars like tuples and frozensets\u001B[39;00m\n",
      "File \u001B[1;32mE:\\pythonProject4\\venv\\lib\\site-packages\\pandas\\core\\series.py:1116\u001B[0m, in \u001B[0;36mSeries._get_value\u001B[1;34m(self, label, takeable)\u001B[0m\n\u001B[0;32m   1113\u001B[0m     \u001B[38;5;28;01mreturn\u001B[39;00m \u001B[38;5;28mself\u001B[39m\u001B[38;5;241m.\u001B[39m_values[label]\n\u001B[0;32m   1115\u001B[0m \u001B[38;5;66;03m# Similar to Index.get_value, but we do not fall back to positional\u001B[39;00m\n\u001B[1;32m-> 1116\u001B[0m loc \u001B[38;5;241m=\u001B[39m \u001B[38;5;28;43mself\u001B[39;49m\u001B[38;5;241;43m.\u001B[39;49m\u001B[43mindex\u001B[49m\u001B[38;5;241;43m.\u001B[39;49m\u001B[43mget_loc\u001B[49m\u001B[43m(\u001B[49m\u001B[43mlabel\u001B[49m\u001B[43m)\u001B[49m\n\u001B[0;32m   1118\u001B[0m \u001B[38;5;28;01mif\u001B[39;00m is_integer(loc):\n\u001B[0;32m   1119\u001B[0m     \u001B[38;5;28;01mreturn\u001B[39;00m \u001B[38;5;28mself\u001B[39m\u001B[38;5;241m.\u001B[39m_values[loc]\n",
      "File \u001B[1;32mE:\\pythonProject4\\venv\\lib\\site-packages\\pandas\\core\\indexes\\base.py:3655\u001B[0m, in \u001B[0;36mIndex.get_loc\u001B[1;34m(self, key)\u001B[0m\n\u001B[0;32m   3653\u001B[0m     \u001B[38;5;28;01mreturn\u001B[39;00m \u001B[38;5;28mself\u001B[39m\u001B[38;5;241m.\u001B[39m_engine\u001B[38;5;241m.\u001B[39mget_loc(casted_key)\n\u001B[0;32m   3654\u001B[0m \u001B[38;5;28;01mexcept\u001B[39;00m \u001B[38;5;167;01mKeyError\u001B[39;00m \u001B[38;5;28;01mas\u001B[39;00m err:\n\u001B[1;32m-> 3655\u001B[0m     \u001B[38;5;28;01mraise\u001B[39;00m \u001B[38;5;167;01mKeyError\u001B[39;00m(key) \u001B[38;5;28;01mfrom\u001B[39;00m \u001B[38;5;21;01merr\u001B[39;00m\n\u001B[0;32m   3656\u001B[0m \u001B[38;5;28;01mexcept\u001B[39;00m \u001B[38;5;167;01mTypeError\u001B[39;00m:\n\u001B[0;32m   3657\u001B[0m     \u001B[38;5;66;03m# If we have a listlike key, _check_indexing_error will raise\u001B[39;00m\n\u001B[0;32m   3658\u001B[0m     \u001B[38;5;66;03m#  InvalidIndexError. Otherwise we fall through and re-raise\u001B[39;00m\n\u001B[0;32m   3659\u001B[0m     \u001B[38;5;66;03m#  the TypeError.\u001B[39;00m\n\u001B[0;32m   3660\u001B[0m     \u001B[38;5;28mself\u001B[39m\u001B[38;5;241m.\u001B[39m_check_indexing_error(key)\n",
      "\u001B[1;31mKeyError\u001B[0m: 'f'"
     ]
    }
   ],
   "source": [
    "s['f']"
   ]
  },
  {
   "cell_type": "markdown",
   "metadata": {},
   "source": [
    "-可以使用`Series.get()`来替换缺失标签对应的返回值"
   ]
  },
  {
   "cell_type": "code",
   "execution_count": null,
   "metadata": {
    "ExecuteTime": {
     "start_time": "2023-08-28T10:03:47.279808600Z"
    }
   },
   "outputs": [],
   "source": [
    "s.get('f',np.nan)"
   ]
  },
  {
   "cell_type": "markdown",
   "metadata": {},
   "source": [
    "## Series对象的矢量化操作和标签对齐功能"
   ]
  },
  {
   "cell_type": "code",
   "execution_count": null,
   "metadata": {
    "ExecuteTime": {
     "start_time": "2023-08-28T10:03:47.281807400Z"
    }
   },
   "outputs": [],
   "source": [
    "s+s"
   ]
  },
  {
   "cell_type": "markdown",
   "metadata": {},
   "source": [
    "s*2"
   ]
  },
  {
   "cell_type": "markdown",
   "metadata": {},
   "source": [
    "-提供自动对齐操作无需考虑参与矢量运算的两个系列是否具有相同的标签"
   ]
  },
  {
   "cell_type": "code",
   "execution_count": null,
   "metadata": {
    "ExecuteTime": {
     "start_time": "2023-08-28T10:03:47.282808100Z"
    }
   },
   "outputs": [],
   "source": [
    "s[1:]+s[:-1]\n",
    "#具体而言，[:-1]表示从序列的开头（索引0）开始，直到倒数第二个元素（索引为-2）为止，不包括最后一个元素（索引为-1）。换句话说，它会返回一个新的序列，包含原序列中除了最后一个元素之外的所有元素。"
   ]
  },
  {
   "cell_type": "markdown",
   "metadata": {},
   "source": [
    "当进行操作时，`Pandas`会自动根据标签将两个`Series`对象的元素进行对齐，即使两个`Series`的长度或索引标签不完全相同。这种自动对齐功能大大简化了数据操作的编程过程，无需手动处理对齐和循环操作。同时，如果某个标签在一个`Series`中存在而在另一个`Series`中不存在，`Pandas`会将对应位置的结果标记为缺失值NaN，以便后续处理。\n",
    "通常情况下，我们选择在不同索引对象之间进行操作时，默认结果是索引的并集，以避免丢失信息。即使数据缺失，拥有索引标签通常仍然是计算中的重要信息。当然，您可以通过使用`dropna`函数来删除具有缺失数据的标签，以满足特定需求。"
   ]
  },
  {
   "cell_type": "markdown",
   "metadata": {},
   "source": [
    "## 名称属性(Name attribute)"
   ]
  },
  {
   "cell_type": "code",
   "execution_count": null,
   "metadata": {
    "ExecuteTime": {
     "start_time": "2023-08-28T10:03:47.283807800Z"
    }
   },
   "outputs": [],
   "source": [
    "s = pd.Series(np.random.randn(5), name=\"something\")\n",
    "s"
   ]
  },
  {
   "cell_type": "code",
   "execution_count": null,
   "metadata": {
    "ExecuteTime": {
     "start_time": "2023-08-28T10:03:47.284807200Z"
    }
   },
   "outputs": [],
   "source": [
    "s.name"
   ]
  },
  {
   "cell_type": "code",
   "execution_count": null,
   "metadata": {
    "ExecuteTime": {
     "start_time": "2023-08-28T10:03:47.285807800Z"
    }
   },
   "outputs": [],
   "source": [
    "# 改名\n",
    "s2=s.rename('different')\n",
    "s2.name"
   ]
  },
  {
   "cell_type": "markdown",
   "metadata": {},
   "source": [
    "在`Pandas`中，很多数据结构都可以通过`name`属性来设置和获取名称。该属性是一个字符串，用于标识数据结构的名称或标签。通过为数据结构设置名称，可以提供更具有描述性和可识别性的标识，方便在数据分析和处理过程中进行引用、区分和识别。"
   ]
  },
  {
   "cell_type": "markdown",
   "metadata": {},
   "source": [
    "# DataFrame"
   ]
  },
  {
   "cell_type": "markdown",
   "metadata": {},
   "source": [
    "`DataFrame`是一种二维标记数据结构，其中包含了可能具有不同类型的列。可以将它想象成一个电子表格或SQL表，或者是一组`Series`对象的字典。\n",
    "在创建`DataFrame`时，你可以选择性地传递行参数:索引(`index`)和列参数:(`columns`)，以确保生成的`DataFrame`具有指定的索引和列。如果没有传递这些参数，`pandas`将根据输入数据自动推断并构建标签。另外，如果你传递了一个具有特定索引的`Series`字典，那么不与传递的索引匹配的数据将被丢弃。\n",
    "## 从系列字典,或者字典到DataFrame的变换\n",
    "生成的`DataFrame`的索引将是各个`Series`索引的并集。如果你传递了多个`Series`对象作为数据源，那么生成的`DataFrame`的索引将包括这些`Series`对象的所有索引，并且不会有重复的索引值。如果传递的数据中存在嵌套的字典(`dict`)，那么这些嵌套的字典将首先被转换为`Series`对象。在创建`DataFrame`之前，嵌套的字典会被展开为对应的`Series`对象，使得`DataFrame`的结构更加扁平化。如果没有传递列参数（列标签），那么生成的`DataFrame`的列将是字典键的有序列表。换句话说，如果你没有明确指定列标签，那么`DataFrame`的列将根据字典的键来确定，并按照字典键的顺序进行排序。"
   ]
  },
  {
   "cell_type": "code",
   "execution_count": 223,
   "metadata": {
    "ExecuteTime": {
     "end_time": "2023-08-28T10:03:48.833956500Z",
     "start_time": "2023-08-28T10:03:47.325808200Z"
    }
   },
   "outputs": [
    {
     "data": {
      "text/html": [
       "<div>\n",
       "<style scoped>\n",
       "    .dataframe tbody tr th:only-of-type {\n",
       "        vertical-align: middle;\n",
       "    }\n",
       "\n",
       "    .dataframe tbody tr th {\n",
       "        vertical-align: top;\n",
       "    }\n",
       "\n",
       "    .dataframe thead th {\n",
       "        text-align: right;\n",
       "    }\n",
       "</style>\n",
       "<table border=\"1\" class=\"dataframe\">\n",
       "  <thead>\n",
       "    <tr style=\"text-align: right;\">\n",
       "      <th></th>\n",
       "      <th>one</th>\n",
       "      <th>two</th>\n",
       "    </tr>\n",
       "  </thead>\n",
       "  <tbody>\n",
       "    <tr>\n",
       "      <th>a</th>\n",
       "      <td>1.0</td>\n",
       "      <td>1.0</td>\n",
       "    </tr>\n",
       "    <tr>\n",
       "      <th>b</th>\n",
       "      <td>2.0</td>\n",
       "      <td>2.0</td>\n",
       "    </tr>\n",
       "    <tr>\n",
       "      <th>c</th>\n",
       "      <td>3.0</td>\n",
       "      <td>3.0</td>\n",
       "    </tr>\n",
       "    <tr>\n",
       "      <th>d</th>\n",
       "      <td>NaN</td>\n",
       "      <td>4.0</td>\n",
       "    </tr>\n",
       "  </tbody>\n",
       "</table>\n",
       "</div>"
      ],
      "text/plain": [
       "   one  two\n",
       "a  1.0  1.0\n",
       "b  2.0  2.0\n",
       "c  3.0  3.0\n",
       "d  NaN  4.0"
      ]
     },
     "execution_count": 223,
     "metadata": {},
     "output_type": "execute_result"
    }
   ],
   "source": [
    "d={\n",
    "    \"one\":pd.Series([1.0,2.0,3.0],index = ['a','b','c']),\n",
    "    \"two\":pd.Series([1.0,2.0,3.0,4.0],index=['a','b','c','d'])\n",
    "}\n",
    "#one 和 two 变成列标签, 行标签由 index决定\n",
    "df = pd.DataFrame(d)\n",
    "df"
   ]
  },
  {
   "cell_type": "code",
   "execution_count": 224,
   "metadata": {
    "ExecuteTime": {
     "end_time": "2023-08-28T10:03:48.839934500Z",
     "start_time": "2023-08-28T10:03:47.341808Z"
    }
   },
   "outputs": [
    {
     "data": {
      "text/html": [
       "<div>\n",
       "<style scoped>\n",
       "    .dataframe tbody tr th:only-of-type {\n",
       "        vertical-align: middle;\n",
       "    }\n",
       "\n",
       "    .dataframe tbody tr th {\n",
       "        vertical-align: top;\n",
       "    }\n",
       "\n",
       "    .dataframe thead th {\n",
       "        text-align: right;\n",
       "    }\n",
       "</style>\n",
       "<table border=\"1\" class=\"dataframe\">\n",
       "  <thead>\n",
       "    <tr style=\"text-align: right;\">\n",
       "      <th></th>\n",
       "      <th>one</th>\n",
       "      <th>two</th>\n",
       "    </tr>\n",
       "  </thead>\n",
       "  <tbody>\n",
       "    <tr>\n",
       "      <th>d</th>\n",
       "      <td>NaN</td>\n",
       "      <td>4.0</td>\n",
       "    </tr>\n",
       "    <tr>\n",
       "      <th>b</th>\n",
       "      <td>2.0</td>\n",
       "      <td>2.0</td>\n",
       "    </tr>\n",
       "    <tr>\n",
       "      <th>a</th>\n",
       "      <td>1.0</td>\n",
       "      <td>1.0</td>\n",
       "    </tr>\n",
       "  </tbody>\n",
       "</table>\n",
       "</div>"
      ],
      "text/plain": [
       "   one  two\n",
       "d  NaN  4.0\n",
       "b  2.0  2.0\n",
       "a  1.0  1.0"
      ]
     },
     "execution_count": 224,
     "metadata": {},
     "output_type": "execute_result"
    }
   ],
   "source": [
    "pd.DataFrame(d,index=['d','b','a'])\n",
    "#由于'one'一列并没有'd'索引,所以在one[d]处得到的是NAN"
   ]
  },
  {
   "cell_type": "code",
   "execution_count": 225,
   "metadata": {
    "ExecuteTime": {
     "end_time": "2023-08-28T10:03:48.839934500Z",
     "start_time": "2023-08-28T10:03:47.361810600Z"
    }
   },
   "outputs": [
    {
     "data": {
      "text/html": [
       "<div>\n",
       "<style scoped>\n",
       "    .dataframe tbody tr th:only-of-type {\n",
       "        vertical-align: middle;\n",
       "    }\n",
       "\n",
       "    .dataframe tbody tr th {\n",
       "        vertical-align: top;\n",
       "    }\n",
       "\n",
       "    .dataframe thead th {\n",
       "        text-align: right;\n",
       "    }\n",
       "</style>\n",
       "<table border=\"1\" class=\"dataframe\">\n",
       "  <thead>\n",
       "    <tr style=\"text-align: right;\">\n",
       "      <th></th>\n",
       "      <th>two</th>\n",
       "      <th>three</th>\n",
       "    </tr>\n",
       "  </thead>\n",
       "  <tbody>\n",
       "    <tr>\n",
       "      <th>d</th>\n",
       "      <td>4.0</td>\n",
       "      <td>NaN</td>\n",
       "    </tr>\n",
       "    <tr>\n",
       "      <th>b</th>\n",
       "      <td>2.0</td>\n",
       "      <td>NaN</td>\n",
       "    </tr>\n",
       "    <tr>\n",
       "      <th>a</th>\n",
       "      <td>1.0</td>\n",
       "      <td>NaN</td>\n",
       "    </tr>\n",
       "  </tbody>\n",
       "</table>\n",
       "</div>"
      ],
      "text/plain": [
       "   two three\n",
       "d  4.0   NaN\n",
       "b  2.0   NaN\n",
       "a  1.0   NaN"
      ]
     },
     "execution_count": 225,
     "metadata": {},
     "output_type": "execute_result"
    }
   ],
   "source": [
    "pd.DataFrame(d,index=['d','b','a'],columns=['two','three'])\n",
    "#由于原先的字典系列中没有'three'这一列 所以这一列都是NAN"
   ]
  },
  {
   "cell_type": "markdown",
   "metadata": {},
   "source": [
    "**通过访问索引（index）和列（columns）属性来获取DataFrame的行标签和列标签。**\n",
    "\n",
    "具体解释如下：\n",
    "\n",
    "1. \"The row and column labels can be accessed respectively by accessing the index and columns attributes.\"：行标签和列标签可以通过分别访问索引（index）和列（columns）属性来获取。\n",
    "\n",
    "这意味着在DataFrame对象上，可以通过以下两种方式来获取行标签和列标签：\n",
    "\n",
    "- 行标签：通过访问DataFrame的`index`属性来获取行标签。例如，如果`df`是一个DataFrame对象，可以使用`df.index`来获取行标签。\n",
    "\n",
    "- 列标签：通过访问DataFrame的`columns`属性来获取列标签。例如，如果`df`是一个DataFrame对象，可以使用`df.columns`来获取列标签。\n",
    "\n",
    "通过访问这两个属性，你可以获取DataFrame对象的行标签和列标签，从而进行相应的操作和分析。\n",
    "\n",
    "**当在创建DataFrame时同时传递了一组特定的列和一个数据字典时，传递的列会覆盖字典中的键。**\n",
    "\n",
    "具体解释如下：\n",
    "\n",
    "- 当你传递了一组特定的列和一个数据字典来创建DataFrame时，DataFrame的列将由传递的列来确定。传递的列标签将覆盖数据字典中的键作为DataFrame的列标签。\n",
    "\n",
    "- 换句话说，如果你在创建DataFrame时指定了一组特定的列，并且数据字典中的键与这些列标签不匹配，那么传递的列标签将覆盖数据字典中的键，成为最终DataFrame的列标签。\n",
    "\n",
    "这个行为可以帮助你控制DataFrame的列标签，确保DataFrame的列按照你指定的顺序和命名来创建。通过传递特定的列，你可以覆盖数据字典中的键，从而自定义DataFrame的列标签。"
   ]
  },
  {
   "cell_type": "code",
   "execution_count": 226,
   "metadata": {
    "ExecuteTime": {
     "end_time": "2023-08-28T10:03:48.842930700Z",
     "start_time": "2023-08-28T10:03:47.372808400Z"
    }
   },
   "outputs": [
    {
     "data": {
      "text/plain": [
       "Index(['a', 'b', 'c', 'd'], dtype='object')"
      ]
     },
     "execution_count": 226,
     "metadata": {},
     "output_type": "execute_result"
    }
   ],
   "source": [
    "df.index"
   ]
  },
  {
   "cell_type": "code",
   "execution_count": 227,
   "metadata": {
    "ExecuteTime": {
     "end_time": "2023-08-28T10:03:48.850935900Z",
     "start_time": "2023-08-28T10:03:47.385808300Z"
    }
   },
   "outputs": [
    {
     "data": {
      "text/plain": [
       "Index(['one', 'two'], dtype='object')"
      ]
     },
     "execution_count": 227,
     "metadata": {},
     "output_type": "execute_result"
    }
   ],
   "source": [
    "df.columns"
   ]
  },
  {
   "cell_type": "markdown",
   "metadata": {},
   "source": [
    "## 从包含n维数组的字典/列表到DataFrame\n",
    "请注意:字典中的每个n维数组长度必须相同,且如果传入了`index`参数,则`index`参数的索引长度也必须要相同,如果没有传入则默认是`range(n)`"
   ]
  },
  {
   "cell_type": "code",
   "execution_count": 228,
   "metadata": {
    "ExecuteTime": {
     "end_time": "2023-08-28T10:03:48.859935200Z",
     "start_time": "2023-08-28T10:03:47.401806600Z"
    }
   },
   "outputs": [
    {
     "data": {
      "text/html": [
       "<div>\n",
       "<style scoped>\n",
       "    .dataframe tbody tr th:only-of-type {\n",
       "        vertical-align: middle;\n",
       "    }\n",
       "\n",
       "    .dataframe tbody tr th {\n",
       "        vertical-align: top;\n",
       "    }\n",
       "\n",
       "    .dataframe thead th {\n",
       "        text-align: right;\n",
       "    }\n",
       "</style>\n",
       "<table border=\"1\" class=\"dataframe\">\n",
       "  <thead>\n",
       "    <tr style=\"text-align: right;\">\n",
       "      <th></th>\n",
       "      <th>one</th>\n",
       "      <th>two</th>\n",
       "    </tr>\n",
       "  </thead>\n",
       "  <tbody>\n",
       "    <tr>\n",
       "      <th>0</th>\n",
       "      <td>1.0</td>\n",
       "      <td>4.0</td>\n",
       "    </tr>\n",
       "    <tr>\n",
       "      <th>1</th>\n",
       "      <td>2.0</td>\n",
       "      <td>3.0</td>\n",
       "    </tr>\n",
       "    <tr>\n",
       "      <th>2</th>\n",
       "      <td>3.0</td>\n",
       "      <td>2.0</td>\n",
       "    </tr>\n",
       "    <tr>\n",
       "      <th>3</th>\n",
       "      <td>4.0</td>\n",
       "      <td>1.0</td>\n",
       "    </tr>\n",
       "  </tbody>\n",
       "</table>\n",
       "</div>"
      ],
      "text/plain": [
       "   one  two\n",
       "0  1.0  4.0\n",
       "1  2.0  3.0\n",
       "2  3.0  2.0\n",
       "3  4.0  1.0"
      ]
     },
     "execution_count": 228,
     "metadata": {},
     "output_type": "execute_result"
    }
   ],
   "source": [
    "d={\n",
    "    'one':[1.0,2.0,3.0,4.0],\n",
    "    'two':[4.0,3.0,2.0,1.0]\n",
    "}\n",
    "pd.DataFrame(d)"
   ]
  },
  {
   "cell_type": "code",
   "execution_count": 229,
   "metadata": {
    "ExecuteTime": {
     "end_time": "2023-08-28T10:03:48.875926600Z",
     "start_time": "2023-08-28T10:03:47.416807600Z"
    }
   },
   "outputs": [
    {
     "data": {
      "text/html": [
       "<div>\n",
       "<style scoped>\n",
       "    .dataframe tbody tr th:only-of-type {\n",
       "        vertical-align: middle;\n",
       "    }\n",
       "\n",
       "    .dataframe tbody tr th {\n",
       "        vertical-align: top;\n",
       "    }\n",
       "\n",
       "    .dataframe thead th {\n",
       "        text-align: right;\n",
       "    }\n",
       "</style>\n",
       "<table border=\"1\" class=\"dataframe\">\n",
       "  <thead>\n",
       "    <tr style=\"text-align: right;\">\n",
       "      <th></th>\n",
       "      <th>one</th>\n",
       "      <th>two</th>\n",
       "    </tr>\n",
       "  </thead>\n",
       "  <tbody>\n",
       "    <tr>\n",
       "      <th>a</th>\n",
       "      <td>1.0</td>\n",
       "      <td>4.0</td>\n",
       "    </tr>\n",
       "    <tr>\n",
       "      <th>b</th>\n",
       "      <td>2.0</td>\n",
       "      <td>3.0</td>\n",
       "    </tr>\n",
       "    <tr>\n",
       "      <th>c</th>\n",
       "      <td>3.0</td>\n",
       "      <td>2.0</td>\n",
       "    </tr>\n",
       "    <tr>\n",
       "      <th>d</th>\n",
       "      <td>4.0</td>\n",
       "      <td>1.0</td>\n",
       "    </tr>\n",
       "  </tbody>\n",
       "</table>\n",
       "</div>"
      ],
      "text/plain": [
       "   one  two\n",
       "a  1.0  4.0\n",
       "b  2.0  3.0\n",
       "c  3.0  2.0\n",
       "d  4.0  1.0"
      ]
     },
     "execution_count": 229,
     "metadata": {},
     "output_type": "execute_result"
    }
   ],
   "source": [
    "pd.DataFrame(d,index=['a','b','c','d'])"
   ]
  },
  {
   "cell_type": "markdown",
   "metadata": {},
   "source": [
    "## 从结构化数组(structed array)或者记录数组(record array)到DataFrame\n",
    "在Python中，\"structured array\"（结构化数组）或\"record array\"（记录数组）是NumPy库中的一个概念。\n",
    "\n",
    "**结构化数组是一种具有复合数据类型的多维数组，其中每个元素可以包含多个字段（field）或属性。每个字段可以具有不同的数据类型，例如整数、浮点数、字符串等。这使得结构化数组可以表示和处理具有表格结构的数据，类似于数据库表或电子表格。**\n",
    "\n",
    "结构化数组可以通过NumPy库中的`numpy.array`函数创建，并使用`dtype`参数指定每个字段的名称和数据类型。例如，下面是一个创建结构化数组的示例：\n",
    "\n",
    "```python\n",
    "import numpy as np\n",
    "\n",
    "# 定义结构化数据类型\n",
    "dtype = np.dtype([('name', 'S20'), ('age', int), ('height', float)])\n",
    "\n",
    "# 创建结构化数组\n",
    "data = np.array([('John', 25, 1.75), ('Alice', 30, 1.60)], dtype=dtype)\n",
    "\n",
    "# 访问结构化数组的字段\n",
    "print(data['name'])    # 输出：['John', 'Alice']\n",
    "print(data['age'])     # 输出：[25, 30]\n",
    "print(data['height'])  # 输出：[1.75, 1.6]\n",
    "```\n",
    "\n",
    "记录数组是结构化数组的一种特殊情况，其中每个字段可以被视为一个记录。记录数组可以看作是表格数据的一行，其中每个字段表示该行的一个属性或特征。\n",
    "\n",
    "总之，结构化数组和记录数组是NumPy中用于处理和操作具有结构化数据的强大工具。它们提供了一种灵活和高效的方式来表示和处理多个字段的数据。"
   ]
  },
  {
   "cell_type": "code",
   "execution_count": 230,
   "metadata": {
    "ExecuteTime": {
     "end_time": "2023-08-28T10:03:48.878935600Z",
     "start_time": "2023-08-28T10:03:47.436450300Z"
    }
   },
   "outputs": [
    {
     "data": {
      "text/plain": [
       "array([(0, 0., ''), (0, 0., '')],\n",
       "      dtype=[('A', '<i4'), ('B', '<f4'), ('C', '<U')])"
      ]
     },
     "execution_count": 230,
     "metadata": {},
     "output_type": "execute_result"
    }
   ],
   "source": [
    "data = np.zeros((2,), dtype=[(\"A\", \"i4\"), (\"B\", \"f4\"), (\"C\", \"unicode_\")])\n",
    "# 这段代码创建了一个包含两个元素的结构化数组（structured array），其中每个元素包含三个字段：A、B和C。\n",
    "#\n",
    "# 具体解释如下：\n",
    "#\n",
    "# np.zeros((2,), dtype=[(\"A\", \"i4\"), (\"B\", \"f4\"), (\"C\", \"a10\")])：这行代码使用NumPy库中的zeros函数创建一个由两个元素组成的数组，并指定数据类型为结构化数组。通过参数dtype，我们定义了每个元素的字段名称和数据类型。\n",
    "# 其中(2,)指的是有2行但是列数未知的意思\n",
    "# [(\"A\", \"i4\"), (\"B\", \"f4\"), (\"C\", \"a10\")]：这是一个Python列表，其中包含了结构化数组的字段信息。每个元素都是一个二元组，第一个元素表示字段的名称，第二个元素表示字段的数据类型。\n",
    "#\n",
    "# 在这段代码中，结构化数组的每个元素包含三个字段：\n",
    "#\n",
    "# \"A\"：字段名为\"A\"，数据类型为\"i4\"，表示4字节的整数（32位整数）。\n",
    "# \"B\"：字段名为\"B\"，数据类型为\"f4\"，表示4字节的浮点数（32位浮点数）。\n",
    "# \"C\"：字段名为\"C\"，数据类型为\"a10\"，表示长度为10的字符串（10个字节）。\n",
    "# 因此，通过这段代码创建的结构化数组data是一个包含两个元素的数组，每个元素都有字段\"A\"、\"B\"和\"C\"，分别对应整数、浮点数和字符串类型的数据。初始值通过np.zeros函数设定为0。你可以根据需要修改初始值或者将其用于存储和操作结构化数据。\n",
    "data"
   ]
  },
  {
   "cell_type": "markdown",
   "metadata": {},
   "source": [
    "在 Python 中，NumPy 的 `dtype` 参数可以使用多种参数来指定数据类型。以下是一些常见的 `dtype` 参数及其对应的数据类型：\n",
    "\n",
    "- `\"bool\"`：布尔型数据。\n",
    "- `\"int8\"`、`\"int16\"`、`\"int32\"`、`\"int64\"`：带符号整数型数据，分别为 8 位、16 位、32 位和 64 位。\n",
    "- `\"uint8\"`、`\"uint16\"`、`\"uint32\"`、`\"uint64\"`：无符号整数型数据，分别为 8 位、16 位、32 位和 64 位。\n",
    "- `\"float16\"`、`\"float32\"`、`\"float64\"`：浮点数型数据，分别为 16 位、32 位和 64 位。\n",
    "- `\"complex64\"`、`\"complex128\"`：复数型数据，分别为 64 位和 128 位。\n",
    "- `\"string_\"`、`\"unicode_\"`：字符串型数据，其中 `\"string_\"` 表示字节字符串，而 `\"unicode_\"` 表示 Unicode 字符串。\n",
    "- `\"datetime64\"`、`\"timedelta64\"`：日期时间型数据和时间差型数据。\n",
    "\n",
    "除了上述常见的数据类型参数外，还可以使用其他参数来指定自定义的数据类型。例如：\n",
    "\n",
    "- `np.dtype([('name', 'S10'), ('age', 'i4'), ('height', 'f4')])`：自定义结构化数据类型，包含名为 `\"name\"`、`\"age\"` 和 `\"height\"` 的字段。\n",
    "\n",
    "此外，还可以使用 dtype 的对象属性来指定数据类型，例如：\n",
    "\n",
    "- `np.int32`：32 位整数型数据。\n",
    "- `np.float64`：64 位浮点数型数据。\n",
    "- `np.bool`：布尔型数据。\n",
    "\n",
    "这只是一些常见的 dtype 参数和对应的数据类型示例。NumPy 还提供了更多的 dtype 参数选项，以满足不同的数据类型需求。你可以参考 NumPy 官方文档以获取更详细的信息：[https://numpy.org/doc/stable/reference/arrays.dtypes.html ↗](https://numpy.org/doc/stable/reference/arrays.dtypes.html)"
   ]
  },
  {
   "cell_type": "code",
   "execution_count": 231,
   "metadata": {
    "ExecuteTime": {
     "end_time": "2023-08-28T10:03:48.878935600Z",
     "start_time": "2023-08-28T10:03:47.448450500Z"
    }
   },
   "outputs": [
    {
     "data": {
      "text/html": [
       "<div>\n",
       "<style scoped>\n",
       "    .dataframe tbody tr th:only-of-type {\n",
       "        vertical-align: middle;\n",
       "    }\n",
       "\n",
       "    .dataframe tbody tr th {\n",
       "        vertical-align: top;\n",
       "    }\n",
       "\n",
       "    .dataframe thead th {\n",
       "        text-align: right;\n",
       "    }\n",
       "</style>\n",
       "<table border=\"1\" class=\"dataframe\">\n",
       "  <thead>\n",
       "    <tr style=\"text-align: right;\">\n",
       "      <th></th>\n",
       "      <th>A</th>\n",
       "      <th>B</th>\n",
       "      <th>C</th>\n",
       "    </tr>\n",
       "  </thead>\n",
       "  <tbody>\n",
       "    <tr>\n",
       "      <th>0</th>\n",
       "      <td>1</td>\n",
       "      <td>2.0</td>\n",
       "      <td></td>\n",
       "    </tr>\n",
       "    <tr>\n",
       "      <th>1</th>\n",
       "      <td>2</td>\n",
       "      <td>3.0</td>\n",
       "      <td></td>\n",
       "    </tr>\n",
       "  </tbody>\n",
       "</table>\n",
       "</div>"
      ],
      "text/plain": [
       "   A    B C\n",
       "0  1  2.0  \n",
       "1  2  3.0  "
      ]
     },
     "execution_count": 231,
     "metadata": {},
     "output_type": "execute_result"
    }
   ],
   "source": [
    "data[:] = [(1, 2.0, 'hello'), (2, 3.0, \"World\")]\n",
    "pd.DataFrame(data)"
   ]
  },
  {
   "cell_type": "markdown",
   "metadata": {},
   "source": [
    "字符串那一列（第三列）多出的 `b` 标记实际上是由于使用了 `NumPy` 的结构化数组，并且将其转换为 `Pandas` 的 `DataFrame` 时引起的。\n",
    "\n",
    "`Pandas` 的 `DataFrame` 对于结构化数组的字符串字段，会给其添加一个 `b` 前缀来表示该字段的数据类型为字节字符串（`bytes string`）。这是因为 `Pandas` 的 `DataFrame` 无法直接处理 `NumPy` 的字节字符串类型。\n",
    "\n",
    "要想消除这个`b`的标记,可以考虑如下放方式"
   ]
  },
  {
   "cell_type": "code",
   "execution_count": 232,
   "metadata": {
    "ExecuteTime": {
     "end_time": "2023-08-28T10:03:48.879935400Z",
     "start_time": "2023-08-28T10:03:47.469448300Z"
    }
   },
   "outputs": [
    {
     "data": {
      "text/html": [
       "<div>\n",
       "<style scoped>\n",
       "    .dataframe tbody tr th:only-of-type {\n",
       "        vertical-align: middle;\n",
       "    }\n",
       "\n",
       "    .dataframe tbody tr th {\n",
       "        vertical-align: top;\n",
       "    }\n",
       "\n",
       "    .dataframe thead th {\n",
       "        text-align: right;\n",
       "    }\n",
       "</style>\n",
       "<table border=\"1\" class=\"dataframe\">\n",
       "  <thead>\n",
       "    <tr style=\"text-align: right;\">\n",
       "      <th></th>\n",
       "      <th>A</th>\n",
       "      <th>B</th>\n",
       "      <th>C</th>\n",
       "    </tr>\n",
       "  </thead>\n",
       "  <tbody>\n",
       "    <tr>\n",
       "      <th>0</th>\n",
       "      <td>1</td>\n",
       "      <td>2.0</td>\n",
       "      <td>hello</td>\n",
       "    </tr>\n",
       "    <tr>\n",
       "      <th>1</th>\n",
       "      <td>2</td>\n",
       "      <td>3.0</td>\n",
       "      <td>World</td>\n",
       "    </tr>\n",
       "  </tbody>\n",
       "</table>\n",
       "</div>"
      ],
      "text/plain": [
       "   A    B      C\n",
       "0  1  2.0  hello\n",
       "1  2  3.0  World"
      ]
     },
     "execution_count": 232,
     "metadata": {},
     "output_type": "execute_result"
    }
   ],
   "source": [
    "data1 = np.zeros((2,), dtype=[(\"A\", \"i4\"), (\"B\", \"f4\"), (\"C\", \"a10\")])\n",
    "data1[:] = [(1, 2.0, 'hello'), (2, 3.0, \"World\")]\n",
    "df_=pd.DataFrame(data1)\n",
    "df_['C']=df_['C'].str.decode('utf-8')\n",
    "df_"
   ]
  },
  {
   "cell_type": "code",
   "execution_count": 233,
   "metadata": {
    "ExecuteTime": {
     "end_time": "2023-08-28T10:03:48.882927400Z",
     "start_time": "2023-08-28T10:03:47.480455400Z"
    }
   },
   "outputs": [
    {
     "data": {
      "text/html": [
       "<div>\n",
       "<style scoped>\n",
       "    .dataframe tbody tr th:only-of-type {\n",
       "        vertical-align: middle;\n",
       "    }\n",
       "\n",
       "    .dataframe tbody tr th {\n",
       "        vertical-align: top;\n",
       "    }\n",
       "\n",
       "    .dataframe thead th {\n",
       "        text-align: right;\n",
       "    }\n",
       "</style>\n",
       "<table border=\"1\" class=\"dataframe\">\n",
       "  <thead>\n",
       "    <tr style=\"text-align: right;\">\n",
       "      <th></th>\n",
       "      <th>A</th>\n",
       "      <th>B</th>\n",
       "      <th>C</th>\n",
       "    </tr>\n",
       "  </thead>\n",
       "  <tbody>\n",
       "    <tr>\n",
       "      <th>first</th>\n",
       "      <td>1</td>\n",
       "      <td>2.0</td>\n",
       "      <td></td>\n",
       "    </tr>\n",
       "    <tr>\n",
       "      <th>second</th>\n",
       "      <td>2</td>\n",
       "      <td>3.0</td>\n",
       "      <td></td>\n",
       "    </tr>\n",
       "  </tbody>\n",
       "</table>\n",
       "</div>"
      ],
      "text/plain": [
       "        A    B C\n",
       "first   1  2.0  \n",
       "second  2  3.0  "
      ]
     },
     "execution_count": 233,
     "metadata": {},
     "output_type": "execute_result"
    }
   ],
   "source": [
    "#指定行标:\n",
    "pd.DataFrame(data,index=['first','second'])"
   ]
  },
  {
   "cell_type": "code",
   "execution_count": 234,
   "metadata": {
    "ExecuteTime": {
     "end_time": "2023-08-28T10:03:48.892936600Z",
     "start_time": "2023-08-28T10:03:47.495457700Z"
    }
   },
   "outputs": [
    {
     "data": {
      "text/html": [
       "<div>\n",
       "<style scoped>\n",
       "    .dataframe tbody tr th:only-of-type {\n",
       "        vertical-align: middle;\n",
       "    }\n",
       "\n",
       "    .dataframe tbody tr th {\n",
       "        vertical-align: top;\n",
       "    }\n",
       "\n",
       "    .dataframe thead th {\n",
       "        text-align: right;\n",
       "    }\n",
       "</style>\n",
       "<table border=\"1\" class=\"dataframe\">\n",
       "  <thead>\n",
       "    <tr style=\"text-align: right;\">\n",
       "      <th></th>\n",
       "      <th>C</th>\n",
       "      <th>A</th>\n",
       "      <th>B</th>\n",
       "    </tr>\n",
       "  </thead>\n",
       "  <tbody>\n",
       "    <tr>\n",
       "      <th>0</th>\n",
       "      <td></td>\n",
       "      <td>1</td>\n",
       "      <td>2.0</td>\n",
       "    </tr>\n",
       "    <tr>\n",
       "      <th>1</th>\n",
       "      <td></td>\n",
       "      <td>2</td>\n",
       "      <td>3.0</td>\n",
       "    </tr>\n",
       "  </tbody>\n",
       "</table>\n",
       "</div>"
      ],
      "text/plain": [
       "  C  A    B\n",
       "0    1  2.0\n",
       "1    2  3.0"
      ]
     },
     "execution_count": 234,
     "metadata": {},
     "output_type": "execute_result"
    }
   ],
   "source": [
    "#指定列标\n",
    "pd.DataFrame(data, columns=[\"C\", \"A\", \"B\"])"
   ]
  },
  {
   "cell_type": "markdown",
   "metadata": {},
   "source": [
    "# 从列表字典到DataFrame"
   ]
  },
  {
   "cell_type": "code",
   "execution_count": 235,
   "metadata": {
    "ExecuteTime": {
     "end_time": "2023-08-28T10:03:48.895935800Z",
     "start_time": "2023-08-28T10:03:47.510449600Z"
    }
   },
   "outputs": [
    {
     "data": {
      "text/html": [
       "<div>\n",
       "<style scoped>\n",
       "    .dataframe tbody tr th:only-of-type {\n",
       "        vertical-align: middle;\n",
       "    }\n",
       "\n",
       "    .dataframe tbody tr th {\n",
       "        vertical-align: top;\n",
       "    }\n",
       "\n",
       "    .dataframe thead th {\n",
       "        text-align: right;\n",
       "    }\n",
       "</style>\n",
       "<table border=\"1\" class=\"dataframe\">\n",
       "  <thead>\n",
       "    <tr style=\"text-align: right;\">\n",
       "      <th></th>\n",
       "      <th>a</th>\n",
       "      <th>b</th>\n",
       "      <th>c</th>\n",
       "    </tr>\n",
       "  </thead>\n",
       "  <tbody>\n",
       "    <tr>\n",
       "      <th>0</th>\n",
       "      <td>1</td>\n",
       "      <td>2</td>\n",
       "      <td>NaN</td>\n",
       "    </tr>\n",
       "    <tr>\n",
       "      <th>1</th>\n",
       "      <td>5</td>\n",
       "      <td>10</td>\n",
       "      <td>20.0</td>\n",
       "    </tr>\n",
       "  </tbody>\n",
       "</table>\n",
       "</div>"
      ],
      "text/plain": [
       "   a   b     c\n",
       "0  1   2   NaN\n",
       "1  5  10  20.0"
      ]
     },
     "execution_count": 235,
     "metadata": {},
     "output_type": "execute_result"
    }
   ],
   "source": [
    "data2 = [{'a':1,'b':2},{'a':5,'b':10,\"c\":20}]\n",
    "pd.DataFrame(data2)"
   ]
  },
  {
   "cell_type": "code",
   "execution_count": 236,
   "metadata": {
    "ExecuteTime": {
     "end_time": "2023-08-28T10:03:48.898935200Z",
     "start_time": "2023-08-28T10:03:47.528465400Z"
    }
   },
   "outputs": [
    {
     "data": {
      "text/html": [
       "<div>\n",
       "<style scoped>\n",
       "    .dataframe tbody tr th:only-of-type {\n",
       "        vertical-align: middle;\n",
       "    }\n",
       "\n",
       "    .dataframe tbody tr th {\n",
       "        vertical-align: top;\n",
       "    }\n",
       "\n",
       "    .dataframe thead th {\n",
       "        text-align: right;\n",
       "    }\n",
       "</style>\n",
       "<table border=\"1\" class=\"dataframe\">\n",
       "  <thead>\n",
       "    <tr style=\"text-align: right;\">\n",
       "      <th></th>\n",
       "      <th>a</th>\n",
       "      <th>b</th>\n",
       "      <th>c</th>\n",
       "    </tr>\n",
       "  </thead>\n",
       "  <tbody>\n",
       "    <tr>\n",
       "      <th>first</th>\n",
       "      <td>1</td>\n",
       "      <td>2</td>\n",
       "      <td>NaN</td>\n",
       "    </tr>\n",
       "    <tr>\n",
       "      <th>second</th>\n",
       "      <td>5</td>\n",
       "      <td>10</td>\n",
       "      <td>20.0</td>\n",
       "    </tr>\n",
       "  </tbody>\n",
       "</table>\n",
       "</div>"
      ],
      "text/plain": [
       "        a   b     c\n",
       "first   1   2   NaN\n",
       "second  5  10  20.0"
      ]
     },
     "execution_count": 236,
     "metadata": {},
     "output_type": "execute_result"
    }
   ],
   "source": [
    "pd.DataFrame(data2,index=['first','second']) #指定列标签"
   ]
  },
  {
   "cell_type": "code",
   "execution_count": 237,
   "metadata": {
    "ExecuteTime": {
     "end_time": "2023-08-28T10:03:48.898935200Z",
     "start_time": "2023-08-28T10:03:47.540451300Z"
    }
   },
   "outputs": [
    {
     "data": {
      "text/html": [
       "<div>\n",
       "<style scoped>\n",
       "    .dataframe tbody tr th:only-of-type {\n",
       "        vertical-align: middle;\n",
       "    }\n",
       "\n",
       "    .dataframe tbody tr th {\n",
       "        vertical-align: top;\n",
       "    }\n",
       "\n",
       "    .dataframe thead th {\n",
       "        text-align: right;\n",
       "    }\n",
       "</style>\n",
       "<table border=\"1\" class=\"dataframe\">\n",
       "  <thead>\n",
       "    <tr style=\"text-align: right;\">\n",
       "      <th></th>\n",
       "      <th>a</th>\n",
       "      <th>b</th>\n",
       "    </tr>\n",
       "  </thead>\n",
       "  <tbody>\n",
       "    <tr>\n",
       "      <th>0</th>\n",
       "      <td>1</td>\n",
       "      <td>2</td>\n",
       "    </tr>\n",
       "    <tr>\n",
       "      <th>1</th>\n",
       "      <td>5</td>\n",
       "      <td>10</td>\n",
       "    </tr>\n",
       "  </tbody>\n",
       "</table>\n",
       "</div>"
      ],
      "text/plain": [
       "   a   b\n",
       "0  1   2\n",
       "1  5  10"
      ]
     },
     "execution_count": 237,
     "metadata": {},
     "output_type": "execute_result"
    }
   ],
   "source": [
    "pd.DataFrame(data2, columns=[\"a\", \"b\"])"
   ]
  },
  {
   "cell_type": "markdown",
   "metadata": {},
   "source": [
    "# 从字典元祖到DataFrame"
   ]
  },
  {
   "cell_type": "code",
   "execution_count": 238,
   "metadata": {
    "ExecuteTime": {
     "end_time": "2023-08-28T10:03:48.901934500Z",
     "start_time": "2023-08-28T10:03:47.565448900Z"
    }
   },
   "outputs": [
    {
     "data": {
      "text/html": [
       "<div>\n",
       "<style scoped>\n",
       "    .dataframe tbody tr th:only-of-type {\n",
       "        vertical-align: middle;\n",
       "    }\n",
       "\n",
       "    .dataframe tbody tr th {\n",
       "        vertical-align: top;\n",
       "    }\n",
       "\n",
       "    .dataframe thead tr th {\n",
       "        text-align: left;\n",
       "    }\n",
       "</style>\n",
       "<table border=\"1\" class=\"dataframe\">\n",
       "  <thead>\n",
       "    <tr>\n",
       "      <th></th>\n",
       "      <th></th>\n",
       "      <th colspan=\"3\" halign=\"left\">a</th>\n",
       "      <th colspan=\"2\" halign=\"left\">b</th>\n",
       "    </tr>\n",
       "    <tr>\n",
       "      <th></th>\n",
       "      <th></th>\n",
       "      <th>b</th>\n",
       "      <th>a</th>\n",
       "      <th>c</th>\n",
       "      <th>a</th>\n",
       "      <th>b</th>\n",
       "    </tr>\n",
       "  </thead>\n",
       "  <tbody>\n",
       "    <tr>\n",
       "      <th rowspan=\"3\" valign=\"top\">A</th>\n",
       "      <th>B</th>\n",
       "      <td>1.0</td>\n",
       "      <td>4.0</td>\n",
       "      <td>5.0</td>\n",
       "      <td>8.0</td>\n",
       "      <td>10.0</td>\n",
       "    </tr>\n",
       "    <tr>\n",
       "      <th>C</th>\n",
       "      <td>2.0</td>\n",
       "      <td>3.0</td>\n",
       "      <td>6.0</td>\n",
       "      <td>7.0</td>\n",
       "      <td>NaN</td>\n",
       "    </tr>\n",
       "    <tr>\n",
       "      <th>D</th>\n",
       "      <td>NaN</td>\n",
       "      <td>NaN</td>\n",
       "      <td>NaN</td>\n",
       "      <td>NaN</td>\n",
       "      <td>9.0</td>\n",
       "    </tr>\n",
       "  </tbody>\n",
       "</table>\n",
       "</div>"
      ],
      "text/plain": [
       "       a              b      \n",
       "       b    a    c    a     b\n",
       "A B  1.0  4.0  5.0  8.0  10.0\n",
       "  C  2.0  3.0  6.0  7.0   NaN\n",
       "  D  NaN  NaN  NaN  NaN   9.0"
      ]
     },
     "execution_count": 238,
     "metadata": {},
     "output_type": "execute_result"
    }
   ],
   "source": [
    "pd.DataFrame(\n",
    "    {\n",
    "        (\"a\", \"b\"): {(\"A\", \"B\"): 1, (\"A\", \"C\"): 2},\n",
    "        (\"a\", \"a\"): {(\"A\", \"C\"): 3, (\"A\", \"B\"): 4},\n",
    "        (\"a\", \"c\"): {(\"A\", \"B\"): 5, (\"A\", \"C\"): 6},\n",
    "        (\"b\", \"a\"): {(\"A\", \"C\"): 7, (\"A\", \"B\"): 8},\n",
    "        (\"b\", \"b\"): {(\"A\", \"D\"): 9, (\"A\", \"B\"): 10},\n",
    "    }\n",
    ")"
   ]
  },
  {
   "cell_type": "markdown",
   "metadata": {},
   "source": [
    "**这段代码创建了一个 Pandas DataFrame，其中包含一个多级列索引。DataFrame 的数据由一个字典提供，字典的键是多级列索引，字典的值是相应的数据。**\n",
    "\n",
    "让我们逐步解释这段代码的输出：\n",
    "这段代码中的字典有 5 个键值对，每个键值对对应一个多级列索引和相应的数据。让我们逐个解释每个键值对：\n",
    "\n",
    "1. `(\"a\", \"b\")`: 键 `(\"a\", \"b\")` 对应的值是一个字典 `{(\"A\", \"B\"): 1, (\"A\", \"C\"): 2}`。这表示 DataFrame 的第一列有两个子列标签，分别是 `\"a\"` 和 `\"b\"`。在子列标签 `\"a\"` 下，行索引为 `(\"A\", \"B\")` 的单元格的值为 1，在行索引为 `(\"A\", \"C\")` 的单元格的值为 2。\n",
    "\n",
    "1. `(\"a\", \"a\")`: 键 `(\"a\", \"a\")` 对应的值是一个字典 `{(\"A\", \"C\"): 3, (\"A\", \"B\"): 4}`。这表示 DataFrame 的第二列有两个子列标签，分别是 `\"a\"` 和 `\"a\"`。在子列标签 `\"a\"` 下，行索引为 `(\"A\", \"C\")` 的单元格的值为 3，在行索引为 `(\"A\", \"B\")` 的单元格的值为 4。\n",
    "\n",
    "1. `(\"a\", \"c\")`: 键 `(\"a\", \"c\")` 对应的值是一个字典 `{(\"A\", \"B\"): 5, (\"A\", \"C\"): 6}`。这表示 DataFrame 的第三列有两个子列标签，分别是 `\"a\"` 和 `\"c\"`。在子列标签 `\"a\"` 下，行索引为 `(\"A\", \"B\")` 的单元格的值为 5，在行索引为 `(\"A\", \"C\")` 的单元格的值为 6。\n",
    "\n",
    "1. `(\"b\", \"a\")`: 键 `(\"b\", \"a\")` 对应的值是一个字典 `{(\"A\", \"C\"): 7, (\"A\", \"B\"): 8}`。这表示 DataFrame 的第四列有两个子列标签，分别是 `\"b\"` 和 `\"a\"`。在子列标签 `\"b\"` 下，行索引为 `(\"A\", \"C\")` 的单元格的值为 7，在行索引为 `(\"A\", \"B\")` 的单元格的值为 8。\n",
    "\n",
    "1. `(\"b\", \"b\")`: 键 `(\"b\", \"b\")` 对应的值是一个字典 `{(\"A\", \"D\"): 9, (\"A\", \"B\"): 10}`。这表示 DataFrame 的第五列有两个子列标签，分别是 `\"b\"` 和 `\"b\"`。在子列标签 `\"b\"` 下，行索引为 `(\"A\", \"D\")` 的单元格的值为 9，在行索引为 `(\"A\", \"B\")` 的单元格的值为 10。\n",
    "\n",
    "因此，这段代码创建的 DataFrame 具有多级列索引，并且每个单元格的值由相应的行索引和列索引决定。\n",
    "**需要注意的是,这一切都是自动完成的**"
   ]
  },
  {
   "cell_type": "markdown",
   "metadata": {},
   "source": [
    "## 从系列Series到DataFrame\n",
    "当将一个 `Series` 转换为 `DataFrame` 时，结果 `DataFrame` 将具有与原始 `Series` 相同的索引。如果没有提供其他列名，则结果 `DataFrame` 将只有一个列，该列的名称将是原始 `Series` 的名称"
   ]
  },
  {
   "cell_type": "code",
   "execution_count": 239,
   "metadata": {
    "ExecuteTime": {
     "end_time": "2023-08-28T10:03:48.910928200Z",
     "start_time": "2023-08-28T10:03:47.570463700Z"
    }
   },
   "outputs": [
    {
     "data": {
      "text/html": [
       "<div>\n",
       "<style scoped>\n",
       "    .dataframe tbody tr th:only-of-type {\n",
       "        vertical-align: middle;\n",
       "    }\n",
       "\n",
       "    .dataframe tbody tr th {\n",
       "        vertical-align: top;\n",
       "    }\n",
       "\n",
       "    .dataframe thead th {\n",
       "        text-align: right;\n",
       "    }\n",
       "</style>\n",
       "<table border=\"1\" class=\"dataframe\">\n",
       "  <thead>\n",
       "    <tr style=\"text-align: right;\">\n",
       "      <th></th>\n",
       "      <th>str</th>\n",
       "    </tr>\n",
       "  </thead>\n",
       "  <tbody>\n",
       "    <tr>\n",
       "      <th>a</th>\n",
       "      <td>0</td>\n",
       "    </tr>\n",
       "    <tr>\n",
       "      <th>b</th>\n",
       "      <td>1</td>\n",
       "    </tr>\n",
       "    <tr>\n",
       "      <th>c</th>\n",
       "      <td>2</td>\n",
       "    </tr>\n",
       "  </tbody>\n",
       "</table>\n",
       "</div>"
      ],
      "text/plain": [
       "   str\n",
       "a    0\n",
       "b    1\n",
       "c    2"
      ]
     },
     "execution_count": 239,
     "metadata": {},
     "output_type": "execute_result"
    }
   ],
   "source": [
    "ser = pd.Series(range(3),index=list('abc'),name='str')\n",
    "pd.DataFrame(ser)"
   ]
  },
  {
   "cell_type": "markdown",
   "metadata": {},
   "source": [
    "## 从具名元祖(namedtuple)到DataFrame\n",
    "`namedtuple` 是 Python 中的一个数据类型，它是一个具名元组（named tuple）。元组是一个不可变的序列，而具名元组是为元组中的每个元素赋予了名称，使得可以通过名称来访问元组的元素，而不仅仅是通过索引。\n",
    "具名元组的定义使用 `collections` 模块中的 `namedtuple` 函数。它接受两个参数：元组的名称和元素的名称列表。例如，下面是一个具名元组的定义：\n",
    "```python\n",
    "from collections import namedtuple\n",
    "Person = namedtuple('Person', ['name', 'age', 'gender'])\n",
    "```\n",
    "上面的代码定义了一个名为 `Person` 的具名元组，它有三个字段：`name`、`age` 和 `gender`。可以使用这个具名元组创建新的实例：\n",
    "```python\n",
    "person = Person('Alice', 25, 'Female')\n",
    "```\n",
    "可以通过字段名来访问具名元组的元素：\n",
    "```python\n",
    "print(person.name)    # 输出: 'Alice'\n",
    "print(person.age)     # 输出: 25\n",
    "print(person.gender)  # 输出: 'Female'\n",
    "```\n",
    "具名元组提供了一个更加可读和易于理解的方式来处理元组数据。它们可以替代使用索引访问元组元素的方式，使代码更具可读性和可维护性。此外，具名元组的字段名是不可变的，因此可以确保数据的一致性。\n",
    "需要注意的是，具名元组实际上是普通的元组的子类，因此它们保留了元组的不可变性和性能优势。同时，具名元组也继承了元组的方法，如索引、切片和迭代等。\n",
    "总结起来，具名元组是一种带有字段名的不可变数据结构，用于创建具有命名字段的元组。它们提供了一种更加可读和易于理解的方式来处理元组数据，同时保留了元组的性能优势。\n",
    "**使用具名元组列表创建 DataFrame 的规则：第一个具名元组的字段名确定了列名，后续的具名元组会按行填充 DataFrame，如果某个具名元组比第一个具名元组短，则后面的列将被标记为缺失值；如果某个具名元组比第一个具名元组长，则会引发 ValueError 错误。**"
   ]
  },
  {
   "cell_type": "code",
   "execution_count": 240,
   "metadata": {
    "ExecuteTime": {
     "end_time": "2023-08-28T10:03:48.916935400Z",
     "start_time": "2023-08-28T10:03:47.586449800Z"
    }
   },
   "outputs": [
    {
     "data": {
      "text/html": [
       "<div>\n",
       "<style scoped>\n",
       "    .dataframe tbody tr th:only-of-type {\n",
       "        vertical-align: middle;\n",
       "    }\n",
       "\n",
       "    .dataframe tbody tr th {\n",
       "        vertical-align: top;\n",
       "    }\n",
       "\n",
       "    .dataframe thead th {\n",
       "        text-align: right;\n",
       "    }\n",
       "</style>\n",
       "<table border=\"1\" class=\"dataframe\">\n",
       "  <thead>\n",
       "    <tr style=\"text-align: right;\">\n",
       "      <th></th>\n",
       "      <th>x</th>\n",
       "      <th>y</th>\n",
       "    </tr>\n",
       "  </thead>\n",
       "  <tbody>\n",
       "    <tr>\n",
       "      <th>0</th>\n",
       "      <td>0</td>\n",
       "      <td>0</td>\n",
       "    </tr>\n",
       "    <tr>\n",
       "      <th>1</th>\n",
       "      <td>0</td>\n",
       "      <td>3</td>\n",
       "    </tr>\n",
       "    <tr>\n",
       "      <th>2</th>\n",
       "      <td>2</td>\n",
       "      <td>3</td>\n",
       "    </tr>\n",
       "  </tbody>\n",
       "</table>\n",
       "</div>"
      ],
      "text/plain": [
       "   x  y\n",
       "0  0  0\n",
       "1  0  3\n",
       "2  2  3"
      ]
     },
     "execution_count": 240,
     "metadata": {},
     "output_type": "execute_result"
    }
   ],
   "source": [
    "from collections import namedtuple\n",
    "Point = namedtuple('Point',['x','y'])\n",
    "pd.DataFrame([Point(0,0),Point(0,3),Point(2,3)])"
   ]
  },
  {
   "cell_type": "code",
   "execution_count": 241,
   "metadata": {
    "ExecuteTime": {
     "end_time": "2023-08-28T10:03:48.922935900Z",
     "start_time": "2023-08-28T10:03:47.605136900Z"
    }
   },
   "outputs": [
    {
     "data": {
      "text/html": [
       "<div>\n",
       "<style scoped>\n",
       "    .dataframe tbody tr th:only-of-type {\n",
       "        vertical-align: middle;\n",
       "    }\n",
       "\n",
       "    .dataframe tbody tr th {\n",
       "        vertical-align: top;\n",
       "    }\n",
       "\n",
       "    .dataframe thead th {\n",
       "        text-align: right;\n",
       "    }\n",
       "</style>\n",
       "<table border=\"1\" class=\"dataframe\">\n",
       "  <thead>\n",
       "    <tr style=\"text-align: right;\">\n",
       "      <th></th>\n",
       "      <th>x</th>\n",
       "      <th>y</th>\n",
       "      <th>z</th>\n",
       "    </tr>\n",
       "  </thead>\n",
       "  <tbody>\n",
       "    <tr>\n",
       "      <th>0</th>\n",
       "      <td>0</td>\n",
       "      <td>0</td>\n",
       "      <td>0.0</td>\n",
       "    </tr>\n",
       "    <tr>\n",
       "      <th>1</th>\n",
       "      <td>0</td>\n",
       "      <td>3</td>\n",
       "      <td>5.0</td>\n",
       "    </tr>\n",
       "    <tr>\n",
       "      <th>2</th>\n",
       "      <td>2</td>\n",
       "      <td>3</td>\n",
       "      <td>NaN</td>\n",
       "    </tr>\n",
       "  </tbody>\n",
       "</table>\n",
       "</div>"
      ],
      "text/plain": [
       "   x  y    z\n",
       "0  0  0  0.0\n",
       "1  0  3  5.0\n",
       "2  2  3  NaN"
      ]
     },
     "execution_count": 241,
     "metadata": {},
     "output_type": "execute_result"
    }
   ],
   "source": [
    "#标记缺失值的范例\n",
    "Point3D=namedtuple('Point3D',['x','y','z'])\n",
    "pd.DataFrame([Point3D(0,0,0),Point3D(0,3,5),Point(2,3)])"
   ]
  },
  {
   "cell_type": "markdown",
   "metadata": {},
   "source": [
    "## 从dataclasses到DataFrame"
   ]
  },
  {
   "cell_type": "code",
   "execution_count": 242,
   "metadata": {
    "ExecuteTime": {
     "end_time": "2023-08-28T10:03:48.925935400Z",
     "start_time": "2023-08-28T10:03:47.617123600Z"
    }
   },
   "outputs": [
    {
     "data": {
      "text/html": [
       "<div>\n",
       "<style scoped>\n",
       "    .dataframe tbody tr th:only-of-type {\n",
       "        vertical-align: middle;\n",
       "    }\n",
       "\n",
       "    .dataframe tbody tr th {\n",
       "        vertical-align: top;\n",
       "    }\n",
       "\n",
       "    .dataframe thead th {\n",
       "        text-align: right;\n",
       "    }\n",
       "</style>\n",
       "<table border=\"1\" class=\"dataframe\">\n",
       "  <thead>\n",
       "    <tr style=\"text-align: right;\">\n",
       "      <th></th>\n",
       "      <th>x</th>\n",
       "      <th>y</th>\n",
       "    </tr>\n",
       "  </thead>\n",
       "  <tbody>\n",
       "    <tr>\n",
       "      <th>0</th>\n",
       "      <td>0</td>\n",
       "      <td>0</td>\n",
       "    </tr>\n",
       "    <tr>\n",
       "      <th>1</th>\n",
       "      <td>0</td>\n",
       "      <td>3</td>\n",
       "    </tr>\n",
       "    <tr>\n",
       "      <th>2</th>\n",
       "      <td>2</td>\n",
       "      <td>3</td>\n",
       "    </tr>\n",
       "  </tbody>\n",
       "</table>\n",
       "</div>"
      ],
      "text/plain": [
       "   x  y\n",
       "0  0  0\n",
       "1  0  3\n",
       "2  2  3"
      ]
     },
     "execution_count": 242,
     "metadata": {},
     "output_type": "execute_result"
    }
   ],
   "source": [
    "from dataclasses import make_dataclass\n",
    "Point = make_dataclass('Point',[('x',int),('y',int)])\n",
    "pd.DataFrame([Point(0,0),Point(0,3),Point(2,3)])"
   ]
  },
  {
   "cell_type": "markdown",
   "metadata": {},
   "source": [
    "## 别的构造器\n",
    "**`DataFrame.from_dict()`**\n",
    "\n",
    "`DataFrame.from_dict()` 方法接受一个字典的字典（dict of dicts）或者一个字典的数组样式序列（dict of array-like sequences），并返回一个 DataFrame。它的用法类似于 DataFrame 构造函数，除了 orient 参数的默认值是 'columns'，但可以设置为 'index'，以使用字典的键作为行标签。"
   ]
  },
  {
   "cell_type": "code",
   "execution_count": 243,
   "metadata": {
    "ExecuteTime": {
     "end_time": "2023-08-28T10:03:48.925935400Z",
     "start_time": "2023-08-28T10:03:47.633130600Z"
    }
   },
   "outputs": [
    {
     "data": {
      "text/html": [
       "<div>\n",
       "<style scoped>\n",
       "    .dataframe tbody tr th:only-of-type {\n",
       "        vertical-align: middle;\n",
       "    }\n",
       "\n",
       "    .dataframe tbody tr th {\n",
       "        vertical-align: top;\n",
       "    }\n",
       "\n",
       "    .dataframe thead th {\n",
       "        text-align: right;\n",
       "    }\n",
       "</style>\n",
       "<table border=\"1\" class=\"dataframe\">\n",
       "  <thead>\n",
       "    <tr style=\"text-align: right;\">\n",
       "      <th></th>\n",
       "      <th>A</th>\n",
       "      <th>B</th>\n",
       "    </tr>\n",
       "  </thead>\n",
       "  <tbody>\n",
       "    <tr>\n",
       "      <th>0</th>\n",
       "      <td>1</td>\n",
       "      <td>4</td>\n",
       "    </tr>\n",
       "    <tr>\n",
       "      <th>1</th>\n",
       "      <td>2</td>\n",
       "      <td>5</td>\n",
       "    </tr>\n",
       "    <tr>\n",
       "      <th>2</th>\n",
       "      <td>3</td>\n",
       "      <td>6</td>\n",
       "    </tr>\n",
       "  </tbody>\n",
       "</table>\n",
       "</div>"
      ],
      "text/plain": [
       "   A  B\n",
       "0  1  4\n",
       "1  2  5\n",
       "2  3  6"
      ]
     },
     "execution_count": 243,
     "metadata": {},
     "output_type": "execute_result"
    }
   ],
   "source": [
    "pd.DataFrame.from_dict(dict([(\"A\", [1, 2, 3]), (\"B\", [4, 5, 6])]))"
   ]
  },
  {
   "cell_type": "markdown",
   "metadata": {},
   "source": [
    "**如果传入了`orient = \"index\"`,那么字典的键会被作为行标签,否则默认是列标签**"
   ]
  },
  {
   "cell_type": "code",
   "execution_count": 244,
   "metadata": {
    "ExecuteTime": {
     "end_time": "2023-08-28T10:03:48.928927200Z",
     "start_time": "2023-08-28T10:03:47.651122200Z"
    }
   },
   "outputs": [
    {
     "data": {
      "text/html": [
       "<div>\n",
       "<style scoped>\n",
       "    .dataframe tbody tr th:only-of-type {\n",
       "        vertical-align: middle;\n",
       "    }\n",
       "\n",
       "    .dataframe tbody tr th {\n",
       "        vertical-align: top;\n",
       "    }\n",
       "\n",
       "    .dataframe thead th {\n",
       "        text-align: right;\n",
       "    }\n",
       "</style>\n",
       "<table border=\"1\" class=\"dataframe\">\n",
       "  <thead>\n",
       "    <tr style=\"text-align: right;\">\n",
       "      <th></th>\n",
       "      <th>one</th>\n",
       "      <th>two</th>\n",
       "      <th>three</th>\n",
       "    </tr>\n",
       "  </thead>\n",
       "  <tbody>\n",
       "    <tr>\n",
       "      <th>A</th>\n",
       "      <td>1</td>\n",
       "      <td>2</td>\n",
       "      <td>3</td>\n",
       "    </tr>\n",
       "    <tr>\n",
       "      <th>B</th>\n",
       "      <td>4</td>\n",
       "      <td>5</td>\n",
       "      <td>6</td>\n",
       "    </tr>\n",
       "  </tbody>\n",
       "</table>\n",
       "</div>"
      ],
      "text/plain": [
       "   one  two  three\n",
       "A    1    2      3\n",
       "B    4    5      6"
      ]
     },
     "execution_count": 244,
     "metadata": {},
     "output_type": "execute_result"
    }
   ],
   "source": [
    "pd.DataFrame.from_dict(\n",
    "    dict(\n",
    "        [\n",
    "            ('A',[1,2,3]),\n",
    "            ('B',[4,5,6]),\n",
    "        ]\n",
    "    ),\n",
    "    orient=\"index\",\n",
    "    columns=['one','two','three'],\n",
    ")"
   ]
  },
  {
   "cell_type": "markdown",
   "metadata": {},
   "source": [
    "**`DataFrame.from_records`**\n",
    "`DataFrame.from_records() `方法接受一个元组列表或带有结构化数据类型（structured dtype）的 `ndarray`，并返回一个 `DataFrame`。它的使用方式类似于普通的 `DataFrame` 构造函数，但不同之处在于生成的 `DataFrame` 的索引可以是结构化数据类型的特定字段。"
   ]
  },
  {
   "cell_type": "code",
   "execution_count": 245,
   "metadata": {
    "ExecuteTime": {
     "end_time": "2023-08-28T10:03:48.932939Z",
     "start_time": "2023-08-28T10:03:47.664136100Z"
    }
   },
   "outputs": [
    {
     "data": {
      "text/plain": [
       "array([(1, 2., ''), (2, 3., '')],\n",
       "      dtype=[('A', '<i4'), ('B', '<f4'), ('C', '<U')])"
      ]
     },
     "execution_count": 245,
     "metadata": {},
     "output_type": "execute_result"
    }
   ],
   "source": [
    "data"
   ]
  },
  {
   "cell_type": "code",
   "execution_count": 246,
   "metadata": {
    "ExecuteTime": {
     "end_time": "2023-08-28T10:03:48.932939Z",
     "start_time": "2023-08-28T10:03:47.678123300Z"
    }
   },
   "outputs": [
    {
     "data": {
      "text/html": [
       "<div>\n",
       "<style scoped>\n",
       "    .dataframe tbody tr th:only-of-type {\n",
       "        vertical-align: middle;\n",
       "    }\n",
       "\n",
       "    .dataframe tbody tr th {\n",
       "        vertical-align: top;\n",
       "    }\n",
       "\n",
       "    .dataframe thead th {\n",
       "        text-align: right;\n",
       "    }\n",
       "</style>\n",
       "<table border=\"1\" class=\"dataframe\">\n",
       "  <thead>\n",
       "    <tr style=\"text-align: right;\">\n",
       "      <th></th>\n",
       "      <th>A</th>\n",
       "      <th>B</th>\n",
       "    </tr>\n",
       "    <tr>\n",
       "      <th>C</th>\n",
       "      <th></th>\n",
       "      <th></th>\n",
       "    </tr>\n",
       "  </thead>\n",
       "  <tbody>\n",
       "    <tr>\n",
       "      <th></th>\n",
       "      <td>1</td>\n",
       "      <td>2.0</td>\n",
       "    </tr>\n",
       "    <tr>\n",
       "      <th></th>\n",
       "      <td>2</td>\n",
       "      <td>3.0</td>\n",
       "    </tr>\n",
       "  </tbody>\n",
       "</table>\n",
       "</div>"
      ],
      "text/plain": [
       "   A    B\n",
       "C        \n",
       "   1  2.0\n",
       "   2  3.0"
      ]
     },
     "execution_count": 246,
     "metadata": {},
     "output_type": "execute_result"
    }
   ],
   "source": [
    "pd.DataFrame.from_records(data,index='C')"
   ]
  },
  {
   "cell_type": "markdown",
   "metadata": {},
   "source": [
    "## 选择列,增加列,删除列\n",
    "在语义上，你可以将 DataFrame 看作是一个类似于以相同索引为键的 Series 对象的字典。获取、设置和删除列的操作可以使用与类似的字典操作相同的语法。"
   ]
  },
  {
   "cell_type": "code",
   "execution_count": 247,
   "metadata": {
    "ExecuteTime": {
     "end_time": "2023-08-28T10:03:48.932939Z",
     "start_time": "2023-08-28T10:03:47.695122300Z"
    }
   },
   "outputs": [
    {
     "data": {
      "text/plain": [
       "a    1.0\n",
       "b    2.0\n",
       "c    3.0\n",
       "d    NaN\n",
       "Name: one, dtype: float64"
      ]
     },
     "execution_count": 247,
     "metadata": {},
     "output_type": "execute_result"
    }
   ],
   "source": [
    "df['one']"
   ]
  },
  {
   "cell_type": "code",
   "execution_count": 248,
   "metadata": {
    "ExecuteTime": {
     "end_time": "2023-08-28T10:03:48.940934900Z",
     "start_time": "2023-08-28T10:03:47.710123600Z"
    }
   },
   "outputs": [
    {
     "data": {
      "text/html": [
       "<div>\n",
       "<style scoped>\n",
       "    .dataframe tbody tr th:only-of-type {\n",
       "        vertical-align: middle;\n",
       "    }\n",
       "\n",
       "    .dataframe tbody tr th {\n",
       "        vertical-align: top;\n",
       "    }\n",
       "\n",
       "    .dataframe thead th {\n",
       "        text-align: right;\n",
       "    }\n",
       "</style>\n",
       "<table border=\"1\" class=\"dataframe\">\n",
       "  <thead>\n",
       "    <tr style=\"text-align: right;\">\n",
       "      <th></th>\n",
       "      <th>one</th>\n",
       "      <th>two</th>\n",
       "      <th>three</th>\n",
       "      <th>flag</th>\n",
       "    </tr>\n",
       "  </thead>\n",
       "  <tbody>\n",
       "    <tr>\n",
       "      <th>a</th>\n",
       "      <td>1.0</td>\n",
       "      <td>1.0</td>\n",
       "      <td>1.0</td>\n",
       "      <td>False</td>\n",
       "    </tr>\n",
       "    <tr>\n",
       "      <th>b</th>\n",
       "      <td>2.0</td>\n",
       "      <td>2.0</td>\n",
       "      <td>4.0</td>\n",
       "      <td>False</td>\n",
       "    </tr>\n",
       "    <tr>\n",
       "      <th>c</th>\n",
       "      <td>3.0</td>\n",
       "      <td>3.0</td>\n",
       "      <td>9.0</td>\n",
       "      <td>True</td>\n",
       "    </tr>\n",
       "    <tr>\n",
       "      <th>d</th>\n",
       "      <td>NaN</td>\n",
       "      <td>4.0</td>\n",
       "      <td>NaN</td>\n",
       "      <td>False</td>\n",
       "    </tr>\n",
       "  </tbody>\n",
       "</table>\n",
       "</div>"
      ],
      "text/plain": [
       "   one  two  three   flag\n",
       "a  1.0  1.0    1.0  False\n",
       "b  2.0  2.0    4.0  False\n",
       "c  3.0  3.0    9.0   True\n",
       "d  NaN  4.0    NaN  False"
      ]
     },
     "execution_count": 248,
     "metadata": {},
     "output_type": "execute_result"
    }
   ],
   "source": [
    "df['three']=df[\"one\"]*df['two']\n",
    "df['flag']=df['one']>2\n",
    "df"
   ]
  },
  {
   "cell_type": "markdown",
   "metadata": {},
   "source": [
    "可以像字典一样删除或者弹出元素"
   ]
  },
  {
   "cell_type": "code",
   "execution_count": 249,
   "metadata": {
    "ExecuteTime": {
     "end_time": "2023-08-28T10:03:48.940934900Z",
     "start_time": "2023-08-28T10:03:47.725123400Z"
    }
   },
   "outputs": [
    {
     "data": {
      "text/html": [
       "<div>\n",
       "<style scoped>\n",
       "    .dataframe tbody tr th:only-of-type {\n",
       "        vertical-align: middle;\n",
       "    }\n",
       "\n",
       "    .dataframe tbody tr th {\n",
       "        vertical-align: top;\n",
       "    }\n",
       "\n",
       "    .dataframe thead th {\n",
       "        text-align: right;\n",
       "    }\n",
       "</style>\n",
       "<table border=\"1\" class=\"dataframe\">\n",
       "  <thead>\n",
       "    <tr style=\"text-align: right;\">\n",
       "      <th></th>\n",
       "      <th>one</th>\n",
       "      <th>flag</th>\n",
       "    </tr>\n",
       "  </thead>\n",
       "  <tbody>\n",
       "    <tr>\n",
       "      <th>a</th>\n",
       "      <td>1.0</td>\n",
       "      <td>False</td>\n",
       "    </tr>\n",
       "    <tr>\n",
       "      <th>b</th>\n",
       "      <td>2.0</td>\n",
       "      <td>False</td>\n",
       "    </tr>\n",
       "    <tr>\n",
       "      <th>c</th>\n",
       "      <td>3.0</td>\n",
       "      <td>True</td>\n",
       "    </tr>\n",
       "    <tr>\n",
       "      <th>d</th>\n",
       "      <td>NaN</td>\n",
       "      <td>False</td>\n",
       "    </tr>\n",
       "  </tbody>\n",
       "</table>\n",
       "</div>"
      ],
      "text/plain": [
       "   one   flag\n",
       "a  1.0  False\n",
       "b  2.0  False\n",
       "c  3.0   True\n",
       "d  NaN  False"
      ]
     },
     "execution_count": 249,
     "metadata": {},
     "output_type": "execute_result"
    }
   ],
   "source": [
    "del df['two']\n",
    "three = df.pop('three')\n",
    "df"
   ]
  },
  {
   "cell_type": "markdown",
   "metadata": {},
   "source": [
    "插入标量时候,默认会填充全部的行"
   ]
  },
  {
   "cell_type": "code",
   "execution_count": 250,
   "metadata": {
    "ExecuteTime": {
     "end_time": "2023-08-28T10:03:48.953936800Z",
     "start_time": "2023-08-28T10:03:47.740132100Z"
    }
   },
   "outputs": [
    {
     "data": {
      "text/html": [
       "<div>\n",
       "<style scoped>\n",
       "    .dataframe tbody tr th:only-of-type {\n",
       "        vertical-align: middle;\n",
       "    }\n",
       "\n",
       "    .dataframe tbody tr th {\n",
       "        vertical-align: top;\n",
       "    }\n",
       "\n",
       "    .dataframe thead th {\n",
       "        text-align: right;\n",
       "    }\n",
       "</style>\n",
       "<table border=\"1\" class=\"dataframe\">\n",
       "  <thead>\n",
       "    <tr style=\"text-align: right;\">\n",
       "      <th></th>\n",
       "      <th>one</th>\n",
       "      <th>flag</th>\n",
       "      <th>foo</th>\n",
       "    </tr>\n",
       "  </thead>\n",
       "  <tbody>\n",
       "    <tr>\n",
       "      <th>a</th>\n",
       "      <td>1.0</td>\n",
       "      <td>False</td>\n",
       "      <td>bar</td>\n",
       "    </tr>\n",
       "    <tr>\n",
       "      <th>b</th>\n",
       "      <td>2.0</td>\n",
       "      <td>False</td>\n",
       "      <td>bar</td>\n",
       "    </tr>\n",
       "    <tr>\n",
       "      <th>c</th>\n",
       "      <td>3.0</td>\n",
       "      <td>True</td>\n",
       "      <td>bar</td>\n",
       "    </tr>\n",
       "    <tr>\n",
       "      <th>d</th>\n",
       "      <td>NaN</td>\n",
       "      <td>False</td>\n",
       "      <td>bar</td>\n",
       "    </tr>\n",
       "  </tbody>\n",
       "</table>\n",
       "</div>"
      ],
      "text/plain": [
       "   one   flag  foo\n",
       "a  1.0  False  bar\n",
       "b  2.0  False  bar\n",
       "c  3.0   True  bar\n",
       "d  NaN  False  bar"
      ]
     },
     "execution_count": 250,
     "metadata": {},
     "output_type": "execute_result"
    }
   ],
   "source": [
    "df['foo']='bar'\n",
    "df"
   ]
  },
  {
   "cell_type": "markdown",
   "metadata": {},
   "source": [
    "当插入一个索引与 DataFrame 不相同的 Series 时，Series 的索引会被调整为与 DataFrame 的索引相匹配。"
   ]
  },
  {
   "cell_type": "code",
   "execution_count": 251,
   "metadata": {
    "ExecuteTime": {
     "end_time": "2023-08-28T10:03:48.958935400Z",
     "start_time": "2023-08-28T10:03:47.761123700Z"
    }
   },
   "outputs": [
    {
     "data": {
      "text/html": [
       "<div>\n",
       "<style scoped>\n",
       "    .dataframe tbody tr th:only-of-type {\n",
       "        vertical-align: middle;\n",
       "    }\n",
       "\n",
       "    .dataframe tbody tr th {\n",
       "        vertical-align: top;\n",
       "    }\n",
       "\n",
       "    .dataframe thead th {\n",
       "        text-align: right;\n",
       "    }\n",
       "</style>\n",
       "<table border=\"1\" class=\"dataframe\">\n",
       "  <thead>\n",
       "    <tr style=\"text-align: right;\">\n",
       "      <th></th>\n",
       "      <th>one</th>\n",
       "      <th>flag</th>\n",
       "      <th>foo</th>\n",
       "      <th>one_trunc</th>\n",
       "    </tr>\n",
       "  </thead>\n",
       "  <tbody>\n",
       "    <tr>\n",
       "      <th>a</th>\n",
       "      <td>1.0</td>\n",
       "      <td>False</td>\n",
       "      <td>bar</td>\n",
       "      <td>1.0</td>\n",
       "    </tr>\n",
       "    <tr>\n",
       "      <th>b</th>\n",
       "      <td>2.0</td>\n",
       "      <td>False</td>\n",
       "      <td>bar</td>\n",
       "      <td>2.0</td>\n",
       "    </tr>\n",
       "    <tr>\n",
       "      <th>c</th>\n",
       "      <td>3.0</td>\n",
       "      <td>True</td>\n",
       "      <td>bar</td>\n",
       "      <td>NaN</td>\n",
       "    </tr>\n",
       "    <tr>\n",
       "      <th>d</th>\n",
       "      <td>NaN</td>\n",
       "      <td>False</td>\n",
       "      <td>bar</td>\n",
       "      <td>NaN</td>\n",
       "    </tr>\n",
       "  </tbody>\n",
       "</table>\n",
       "</div>"
      ],
      "text/plain": [
       "   one   flag  foo  one_trunc\n",
       "a  1.0  False  bar        1.0\n",
       "b  2.0  False  bar        2.0\n",
       "c  3.0   True  bar        NaN\n",
       "d  NaN  False  bar        NaN"
      ]
     },
     "execution_count": 251,
     "metadata": {},
     "output_type": "execute_result"
    }
   ],
   "source": [
    "df[\"one_trunc\"] = df[\"one\"][:2]\n",
    "df"
   ]
  },
  {
   "cell_type": "markdown",
   "metadata": {},
   "source": [
    "**`df.insert()`**\n",
    "`column`: 必需参数，表示要插入的列的名称。新的列将被插入到该名称指定的位置。\n",
    "`value`: 必需参数，表示要插入的列的值。可以是单个值、列表、数组或 Series 对象。如果值是单个值，则该值将被广播到整个列。如果值是列表、数组或 Series 对象，则其长度必须与 DataFrame 的行数相匹配。\n",
    "`loc`: 必需参数，表示要插入新列的位置。可以指定列的索引位置（整数值），也可以指定列的名称。"
   ]
  },
  {
   "cell_type": "code",
   "execution_count": 252,
   "metadata": {
    "ExecuteTime": {
     "end_time": "2023-08-28T10:03:48.958935400Z",
     "start_time": "2023-08-28T10:03:47.770123600Z"
    }
   },
   "outputs": [
    {
     "data": {
      "text/html": [
       "<div>\n",
       "<style scoped>\n",
       "    .dataframe tbody tr th:only-of-type {\n",
       "        vertical-align: middle;\n",
       "    }\n",
       "\n",
       "    .dataframe tbody tr th {\n",
       "        vertical-align: top;\n",
       "    }\n",
       "\n",
       "    .dataframe thead th {\n",
       "        text-align: right;\n",
       "    }\n",
       "</style>\n",
       "<table border=\"1\" class=\"dataframe\">\n",
       "  <thead>\n",
       "    <tr style=\"text-align: right;\">\n",
       "      <th></th>\n",
       "      <th>one</th>\n",
       "      <th>bar</th>\n",
       "      <th>flag</th>\n",
       "      <th>foo</th>\n",
       "      <th>one_trunc</th>\n",
       "    </tr>\n",
       "  </thead>\n",
       "  <tbody>\n",
       "    <tr>\n",
       "      <th>a</th>\n",
       "      <td>1.0</td>\n",
       "      <td>1.0</td>\n",
       "      <td>False</td>\n",
       "      <td>bar</td>\n",
       "      <td>1.0</td>\n",
       "    </tr>\n",
       "    <tr>\n",
       "      <th>b</th>\n",
       "      <td>2.0</td>\n",
       "      <td>2.0</td>\n",
       "      <td>False</td>\n",
       "      <td>bar</td>\n",
       "      <td>2.0</td>\n",
       "    </tr>\n",
       "    <tr>\n",
       "      <th>c</th>\n",
       "      <td>3.0</td>\n",
       "      <td>3.0</td>\n",
       "      <td>True</td>\n",
       "      <td>bar</td>\n",
       "      <td>NaN</td>\n",
       "    </tr>\n",
       "    <tr>\n",
       "      <th>d</th>\n",
       "      <td>NaN</td>\n",
       "      <td>NaN</td>\n",
       "      <td>False</td>\n",
       "      <td>bar</td>\n",
       "      <td>NaN</td>\n",
       "    </tr>\n",
       "  </tbody>\n",
       "</table>\n",
       "</div>"
      ],
      "text/plain": [
       "   one  bar   flag  foo  one_trunc\n",
       "a  1.0  1.0  False  bar        1.0\n",
       "b  2.0  2.0  False  bar        2.0\n",
       "c  3.0  3.0   True  bar        NaN\n",
       "d  NaN  NaN  False  bar        NaN"
      ]
     },
     "execution_count": 252,
     "metadata": {},
     "output_type": "execute_result"
    }
   ],
   "source": [
    "df.insert(column='bar',value=df['one'],loc=1)\n",
    "df"
   ]
  },
  {
   "cell_type": "markdown",
   "metadata": {},
   "source": [
    "## 索引/选择\n",
    "| 操作       | 语法              | 返回值        |\n",
    "|----|----|------------|\n",
    "| 选择列      | `df[col]`       | 系列`Series` |\n",
    "| 用标签选择行   | `df.loc(label)` | 系列`Series` |\n",
    "| 用整数选择行   | `df.iloc[loc]`  | 系列`Series` |\n",
    "| 为行切片     | `df[5:10]`      | `DataFrame` |\n",
    "| 用布尔向量选择行 | `df[bool_vec]`   | `DataFrame` |\n"
   ]
  },
  {
   "cell_type": "markdown",
   "metadata": {},
   "source": [
    "## 数据对齐和算术运算\n",
    "数据对齐确保正在操作的数据结构具有匹配的标签或索引，以便正确执行操作。当执行加法、减法、乘法或除法等算术运算时，数据对齐允许操作应用于基于标签或索引相匹配的元素"
   ]
  },
  {
   "cell_type": "code",
   "execution_count": 253,
   "metadata": {
    "ExecuteTime": {
     "end_time": "2023-08-28T10:03:48.968926900Z",
     "start_time": "2023-08-28T10:03:47.793123100Z"
    }
   },
   "outputs": [
    {
     "data": {
      "text/html": [
       "<div>\n",
       "<style scoped>\n",
       "    .dataframe tbody tr th:only-of-type {\n",
       "        vertical-align: middle;\n",
       "    }\n",
       "\n",
       "    .dataframe tbody tr th {\n",
       "        vertical-align: top;\n",
       "    }\n",
       "\n",
       "    .dataframe thead th {\n",
       "        text-align: right;\n",
       "    }\n",
       "</style>\n",
       "<table border=\"1\" class=\"dataframe\">\n",
       "  <thead>\n",
       "    <tr style=\"text-align: right;\">\n",
       "      <th></th>\n",
       "      <th>A</th>\n",
       "      <th>B</th>\n",
       "      <th>C</th>\n",
       "      <th>D</th>\n",
       "    </tr>\n",
       "  </thead>\n",
       "  <tbody>\n",
       "    <tr>\n",
       "      <th>0</th>\n",
       "      <td>-1.134323</td>\n",
       "      <td>-0.295077</td>\n",
       "      <td>0.461890</td>\n",
       "      <td>NaN</td>\n",
       "    </tr>\n",
       "    <tr>\n",
       "      <th>1</th>\n",
       "      <td>-0.267033</td>\n",
       "      <td>2.564926</td>\n",
       "      <td>-0.396469</td>\n",
       "      <td>NaN</td>\n",
       "    </tr>\n",
       "    <tr>\n",
       "      <th>2</th>\n",
       "      <td>-0.429033</td>\n",
       "      <td>-0.876337</td>\n",
       "      <td>0.920716</td>\n",
       "      <td>NaN</td>\n",
       "    </tr>\n",
       "    <tr>\n",
       "      <th>3</th>\n",
       "      <td>0.023357</td>\n",
       "      <td>1.755694</td>\n",
       "      <td>1.001540</td>\n",
       "      <td>NaN</td>\n",
       "    </tr>\n",
       "    <tr>\n",
       "      <th>4</th>\n",
       "      <td>-1.101023</td>\n",
       "      <td>-0.474365</td>\n",
       "      <td>-2.143047</td>\n",
       "      <td>NaN</td>\n",
       "    </tr>\n",
       "    <tr>\n",
       "      <th>5</th>\n",
       "      <td>-0.954898</td>\n",
       "      <td>1.684914</td>\n",
       "      <td>1.437906</td>\n",
       "      <td>NaN</td>\n",
       "    </tr>\n",
       "    <tr>\n",
       "      <th>6</th>\n",
       "      <td>1.950669</td>\n",
       "      <td>2.170750</td>\n",
       "      <td>-0.087492</td>\n",
       "      <td>NaN</td>\n",
       "    </tr>\n",
       "    <tr>\n",
       "      <th>7</th>\n",
       "      <td>NaN</td>\n",
       "      <td>NaN</td>\n",
       "      <td>NaN</td>\n",
       "      <td>NaN</td>\n",
       "    </tr>\n",
       "    <tr>\n",
       "      <th>8</th>\n",
       "      <td>NaN</td>\n",
       "      <td>NaN</td>\n",
       "      <td>NaN</td>\n",
       "      <td>NaN</td>\n",
       "    </tr>\n",
       "    <tr>\n",
       "      <th>9</th>\n",
       "      <td>NaN</td>\n",
       "      <td>NaN</td>\n",
       "      <td>NaN</td>\n",
       "      <td>NaN</td>\n",
       "    </tr>\n",
       "  </tbody>\n",
       "</table>\n",
       "</div>"
      ],
      "text/plain": [
       "          A         B         C   D\n",
       "0 -1.134323 -0.295077  0.461890 NaN\n",
       "1 -0.267033  2.564926 -0.396469 NaN\n",
       "2 -0.429033 -0.876337  0.920716 NaN\n",
       "3  0.023357  1.755694  1.001540 NaN\n",
       "4 -1.101023 -0.474365 -2.143047 NaN\n",
       "5 -0.954898  1.684914  1.437906 NaN\n",
       "6  1.950669  2.170750 -0.087492 NaN\n",
       "7       NaN       NaN       NaN NaN\n",
       "8       NaN       NaN       NaN NaN\n",
       "9       NaN       NaN       NaN NaN"
      ]
     },
     "execution_count": 253,
     "metadata": {},
     "output_type": "execute_result"
    }
   ],
   "source": [
    "df=pd.DataFrame(np.random.randn(10,4),columns=['A','B','C','D'])\n",
    "df2 = pd.DataFrame(np.random.randn(7,3),columns=['A','B','C'])\n",
    "df+df2\n",
    "# 这段代码创建了两个DataFrame对象`df`和`df2`，并对它们进行了加法运算。\n",
    "#\n",
    "# 首先，通过`pd.DataFrame()`函数创建了一个包含10行4列的DataFrame对象`df`，其中的数据是从标准正态分布中随机生成的。每一列被命名为'A'、'B'、'C'和'D'。\n",
    "#\n",
    "# 接下来，使用`pd.DataFrame()`函数创建了一个包含7行3列的DataFrame对象`df2`，其中的数据也是从标准正态分布中随机生成的。每一列被命名为'A'、'B'和'C'。\n",
    "#\n",
    "# 然后，代码执行了`df + df2`的加法运算。在这个运算中，pandas会自动对齐两个DataFrame对象的数据。由于`df`和`df2`具有相同的列名（'A'、'B'和'C'），它们的对应列将进行元素级别的相加运算。对于没有匹配的列（'D'和没有对应的列），相应的结果将为NaN。\n",
    "#\n",
    "# 最终的结果是一个新的DataFrame对象，它具有与原始DataFrame对象相同的行数和列数，其中的值是根据对应元素相加的结果。如果某个位置在原始DataFrame中或者df2中没有对应的值，则结果中相应位置的值将为NaN。\n",
    "#\n",
    "# 简而言之，这段代码演示了如何对两个DataFrame对象进行加法运算，并展示了数据对齐的结果。只有具有相同列名的列才会相互对齐并进行相加运算，其他列则被视为不匹配的列并产生NaN值。"
   ]
  },
  {
   "cell_type": "markdown",
   "metadata": {},
   "source": [
    "当在DataFrame和Series之间进行操作时，pandas会根据索引对齐数据。对于Series对象，它具有自己的索引，而DataFrame对象具有列索引。在默认情况下，pandas会将Series的索引与DataFrame的列进行对齐，以确保操作的正确性。\n",
    "\n",
    "具体而言，对于每个Series的索引，pandas会查找与之对应的DataFrame的列索引。然后，将Series的值按行广播到对应的DataFrame行上。这意味着Series的值将被复制到DataFrame的每一行，以便与对应的列进行运算。\n",
    "\n",
    "这种行为称为广播（broadcasting），因为Series的值会被广播到整个DataFrame的行上。通过这种方式，可以在DataFrame和Series之间进行基于行的操作，而不需要显式地编写循环或逐行操作。"
   ]
  },
  {
   "cell_type": "code",
   "execution_count": 254,
   "metadata": {
    "ExecuteTime": {
     "end_time": "2023-08-28T10:03:48.973936200Z",
     "start_time": "2023-08-28T10:03:47.802123300Z"
    }
   },
   "outputs": [
    {
     "data": {
      "text/html": [
       "<div>\n",
       "<style scoped>\n",
       "    .dataframe tbody tr th:only-of-type {\n",
       "        vertical-align: middle;\n",
       "    }\n",
       "\n",
       "    .dataframe tbody tr th {\n",
       "        vertical-align: top;\n",
       "    }\n",
       "\n",
       "    .dataframe thead th {\n",
       "        text-align: right;\n",
       "    }\n",
       "</style>\n",
       "<table border=\"1\" class=\"dataframe\">\n",
       "  <thead>\n",
       "    <tr style=\"text-align: right;\">\n",
       "      <th></th>\n",
       "      <th>A</th>\n",
       "      <th>B</th>\n",
       "      <th>C</th>\n",
       "      <th>D</th>\n",
       "    </tr>\n",
       "  </thead>\n",
       "  <tbody>\n",
       "    <tr>\n",
       "      <th>0</th>\n",
       "      <td>-0.272496</td>\n",
       "      <td>-0.352829</td>\n",
       "      <td>0.463889</td>\n",
       "      <td>0.712193</td>\n",
       "    </tr>\n",
       "    <tr>\n",
       "      <th>1</th>\n",
       "      <td>2.084525</td>\n",
       "      <td>2.585520</td>\n",
       "      <td>-0.168173</td>\n",
       "      <td>-1.564562</td>\n",
       "    </tr>\n",
       "    <tr>\n",
       "      <th>2</th>\n",
       "      <td>0.202141</td>\n",
       "      <td>-0.338019</td>\n",
       "      <td>-0.178463</td>\n",
       "      <td>0.998497</td>\n",
       "    </tr>\n",
       "    <tr>\n",
       "      <th>3</th>\n",
       "      <td>-1.254657</td>\n",
       "      <td>0.450336</td>\n",
       "      <td>1.593341</td>\n",
       "      <td>0.151471</td>\n",
       "    </tr>\n",
       "    <tr>\n",
       "      <th>4</th>\n",
       "      <td>-1.694684</td>\n",
       "      <td>-0.084137</td>\n",
       "      <td>-0.978055</td>\n",
       "      <td>-0.212781</td>\n",
       "    </tr>\n",
       "    <tr>\n",
       "      <th>5</th>\n",
       "      <td>-0.448056</td>\n",
       "      <td>0.069133</td>\n",
       "      <td>1.131621</td>\n",
       "      <td>-1.555782</td>\n",
       "    </tr>\n",
       "    <tr>\n",
       "      <th>6</th>\n",
       "      <td>0.405340</td>\n",
       "      <td>0.726877</td>\n",
       "      <td>-0.421899</td>\n",
       "      <td>-0.345312</td>\n",
       "    </tr>\n",
       "    <tr>\n",
       "      <th>7</th>\n",
       "      <td>1.565012</td>\n",
       "      <td>0.010758</td>\n",
       "      <td>-0.257429</td>\n",
       "      <td>-0.157207</td>\n",
       "    </tr>\n",
       "    <tr>\n",
       "      <th>8</th>\n",
       "      <td>-0.137183</td>\n",
       "      <td>1.312388</td>\n",
       "      <td>0.726485</td>\n",
       "      <td>0.390261</td>\n",
       "    </tr>\n",
       "    <tr>\n",
       "      <th>9</th>\n",
       "      <td>0.911358</td>\n",
       "      <td>0.915824</td>\n",
       "      <td>-0.137987</td>\n",
       "      <td>-1.159776</td>\n",
       "    </tr>\n",
       "  </tbody>\n",
       "</table>\n",
       "</div>"
      ],
      "text/plain": [
       "          A         B         C         D\n",
       "0 -0.272496 -0.352829  0.463889  0.712193\n",
       "1  2.084525  2.585520 -0.168173 -1.564562\n",
       "2  0.202141 -0.338019 -0.178463  0.998497\n",
       "3 -1.254657  0.450336  1.593341  0.151471\n",
       "4 -1.694684 -0.084137 -0.978055 -0.212781\n",
       "5 -0.448056  0.069133  1.131621 -1.555782\n",
       "6  0.405340  0.726877 -0.421899 -0.345312\n",
       "7  1.565012  0.010758 -0.257429 -0.157207\n",
       "8 -0.137183  1.312388  0.726485  0.390261\n",
       "9  0.911358  0.915824 -0.137987 -1.159776"
      ]
     },
     "execution_count": 254,
     "metadata": {},
     "output_type": "execute_result"
    }
   ],
   "source": [
    "df"
   ]
  },
  {
   "cell_type": "code",
   "execution_count": 255,
   "metadata": {
    "ExecuteTime": {
     "end_time": "2023-08-28T10:03:48.974942200Z",
     "start_time": "2023-08-28T10:03:47.817123800Z"
    }
   },
   "outputs": [
    {
     "data": {
      "text/plain": [
       "A   -0.272496\n",
       "B   -0.352829\n",
       "C    0.463889\n",
       "D    0.712193\n",
       "Name: 0, dtype: float64"
      ]
     },
     "execution_count": 255,
     "metadata": {},
     "output_type": "execute_result"
    }
   ],
   "source": [
    "df.iloc[0]"
   ]
  },
  {
   "cell_type": "code",
   "execution_count": 256,
   "metadata": {
    "ExecuteTime": {
     "end_time": "2023-08-28T10:03:48.986935400Z",
     "start_time": "2023-08-28T10:03:47.832123100Z"
    }
   },
   "outputs": [
    {
     "data": {
      "text/html": [
       "<div>\n",
       "<style scoped>\n",
       "    .dataframe tbody tr th:only-of-type {\n",
       "        vertical-align: middle;\n",
       "    }\n",
       "\n",
       "    .dataframe tbody tr th {\n",
       "        vertical-align: top;\n",
       "    }\n",
       "\n",
       "    .dataframe thead th {\n",
       "        text-align: right;\n",
       "    }\n",
       "</style>\n",
       "<table border=\"1\" class=\"dataframe\">\n",
       "  <thead>\n",
       "    <tr style=\"text-align: right;\">\n",
       "      <th></th>\n",
       "      <th>A</th>\n",
       "      <th>B</th>\n",
       "      <th>C</th>\n",
       "      <th>D</th>\n",
       "    </tr>\n",
       "  </thead>\n",
       "  <tbody>\n",
       "    <tr>\n",
       "      <th>0</th>\n",
       "      <td>0.000000</td>\n",
       "      <td>0.000000</td>\n",
       "      <td>0.000000</td>\n",
       "      <td>0.000000</td>\n",
       "    </tr>\n",
       "    <tr>\n",
       "      <th>1</th>\n",
       "      <td>2.357021</td>\n",
       "      <td>2.938349</td>\n",
       "      <td>-0.632061</td>\n",
       "      <td>-2.276755</td>\n",
       "    </tr>\n",
       "    <tr>\n",
       "      <th>2</th>\n",
       "      <td>0.474637</td>\n",
       "      <td>0.014810</td>\n",
       "      <td>-0.642352</td>\n",
       "      <td>0.286304</td>\n",
       "    </tr>\n",
       "    <tr>\n",
       "      <th>3</th>\n",
       "      <td>-0.982162</td>\n",
       "      <td>0.803164</td>\n",
       "      <td>1.129453</td>\n",
       "      <td>-0.560722</td>\n",
       "    </tr>\n",
       "    <tr>\n",
       "      <th>4</th>\n",
       "      <td>-1.422188</td>\n",
       "      <td>0.268692</td>\n",
       "      <td>-1.441943</td>\n",
       "      <td>-0.924975</td>\n",
       "    </tr>\n",
       "    <tr>\n",
       "      <th>5</th>\n",
       "      <td>-0.175560</td>\n",
       "      <td>0.421962</td>\n",
       "      <td>0.667732</td>\n",
       "      <td>-2.267976</td>\n",
       "    </tr>\n",
       "    <tr>\n",
       "      <th>6</th>\n",
       "      <td>0.677836</td>\n",
       "      <td>1.079706</td>\n",
       "      <td>-0.885788</td>\n",
       "      <td>-1.057505</td>\n",
       "    </tr>\n",
       "    <tr>\n",
       "      <th>7</th>\n",
       "      <td>1.837508</td>\n",
       "      <td>0.363587</td>\n",
       "      <td>-0.721318</td>\n",
       "      <td>-0.869400</td>\n",
       "    </tr>\n",
       "    <tr>\n",
       "      <th>8</th>\n",
       "      <td>0.135313</td>\n",
       "      <td>1.665217</td>\n",
       "      <td>0.262596</td>\n",
       "      <td>-0.321932</td>\n",
       "    </tr>\n",
       "    <tr>\n",
       "      <th>9</th>\n",
       "      <td>1.183854</td>\n",
       "      <td>1.268653</td>\n",
       "      <td>-0.601876</td>\n",
       "      <td>-1.871969</td>\n",
       "    </tr>\n",
       "  </tbody>\n",
       "</table>\n",
       "</div>"
      ],
      "text/plain": [
       "          A         B         C         D\n",
       "0  0.000000  0.000000  0.000000  0.000000\n",
       "1  2.357021  2.938349 -0.632061 -2.276755\n",
       "2  0.474637  0.014810 -0.642352  0.286304\n",
       "3 -0.982162  0.803164  1.129453 -0.560722\n",
       "4 -1.422188  0.268692 -1.441943 -0.924975\n",
       "5 -0.175560  0.421962  0.667732 -2.267976\n",
       "6  0.677836  1.079706 -0.885788 -1.057505\n",
       "7  1.837508  0.363587 -0.721318 -0.869400\n",
       "8  0.135313  1.665217  0.262596 -0.321932\n",
       "9  1.183854  1.268653 -0.601876 -1.871969"
      ]
     },
     "execution_count": 256,
     "metadata": {},
     "output_type": "execute_result"
    }
   ],
   "source": [
    "df-df.iloc[0]"
   ]
  },
  {
   "cell_type": "markdown",
   "metadata": {},
   "source": [
    "**布尔类型的元素也是可以参与运算的**"
   ]
  },
  {
   "cell_type": "code",
   "execution_count": 257,
   "metadata": {
    "ExecuteTime": {
     "end_time": "2023-08-28T10:03:48.986935400Z",
     "start_time": "2023-08-28T10:03:47.852122400Z"
    }
   },
   "outputs": [
    {
     "data": {
      "text/html": [
       "<div>\n",
       "<style scoped>\n",
       "    .dataframe tbody tr th:only-of-type {\n",
       "        vertical-align: middle;\n",
       "    }\n",
       "\n",
       "    .dataframe tbody tr th {\n",
       "        vertical-align: top;\n",
       "    }\n",
       "\n",
       "    .dataframe thead th {\n",
       "        text-align: right;\n",
       "    }\n",
       "</style>\n",
       "<table border=\"1\" class=\"dataframe\">\n",
       "  <thead>\n",
       "    <tr style=\"text-align: right;\">\n",
       "      <th></th>\n",
       "      <th>a</th>\n",
       "      <th>b</th>\n",
       "    </tr>\n",
       "  </thead>\n",
       "  <tbody>\n",
       "    <tr>\n",
       "      <th>0</th>\n",
       "      <td>False</td>\n",
       "      <td>False</td>\n",
       "    </tr>\n",
       "    <tr>\n",
       "      <th>1</th>\n",
       "      <td>False</td>\n",
       "      <td>True</td>\n",
       "    </tr>\n",
       "    <tr>\n",
       "      <th>2</th>\n",
       "      <td>True</td>\n",
       "      <td>False</td>\n",
       "    </tr>\n",
       "  </tbody>\n",
       "</table>\n",
       "</div>"
      ],
      "text/plain": [
       "       a      b\n",
       "0  False  False\n",
       "1  False   True\n",
       "2   True  False"
      ]
     },
     "execution_count": 257,
     "metadata": {},
     "output_type": "execute_result"
    }
   ],
   "source": [
    "df1 = pd.DataFrame({\"a\": [1, 0, 1], \"b\": [0, 1, 1]}, dtype=bool)\n",
    "\n",
    "df2 = pd.DataFrame({\"a\": [0, 1, 1], \"b\": [1, 1, 0]}, dtype=bool)\n",
    "\n",
    "df1 & df2"
   ]
  },
  {
   "cell_type": "code",
   "execution_count": 258,
   "metadata": {
    "ExecuteTime": {
     "end_time": "2023-08-28T10:03:48.992935400Z",
     "start_time": "2023-08-28T10:03:47.864123100Z"
    }
   },
   "outputs": [
    {
     "data": {
      "text/html": [
       "<div>\n",
       "<style scoped>\n",
       "    .dataframe tbody tr th:only-of-type {\n",
       "        vertical-align: middle;\n",
       "    }\n",
       "\n",
       "    .dataframe tbody tr th {\n",
       "        vertical-align: top;\n",
       "    }\n",
       "\n",
       "    .dataframe thead th {\n",
       "        text-align: right;\n",
       "    }\n",
       "</style>\n",
       "<table border=\"1\" class=\"dataframe\">\n",
       "  <thead>\n",
       "    <tr style=\"text-align: right;\">\n",
       "      <th></th>\n",
       "      <th>a</th>\n",
       "      <th>b</th>\n",
       "    </tr>\n",
       "  </thead>\n",
       "  <tbody>\n",
       "    <tr>\n",
       "      <th>0</th>\n",
       "      <td>True</td>\n",
       "      <td>True</td>\n",
       "    </tr>\n",
       "    <tr>\n",
       "      <th>1</th>\n",
       "      <td>True</td>\n",
       "      <td>True</td>\n",
       "    </tr>\n",
       "    <tr>\n",
       "      <th>2</th>\n",
       "      <td>True</td>\n",
       "      <td>True</td>\n",
       "    </tr>\n",
       "  </tbody>\n",
       "</table>\n",
       "</div>"
      ],
      "text/plain": [
       "      a     b\n",
       "0  True  True\n",
       "1  True  True\n",
       "2  True  True"
      ]
     },
     "execution_count": 258,
     "metadata": {},
     "output_type": "execute_result"
    }
   ],
   "source": [
    "df1|df2"
   ]
  },
  {
   "cell_type": "markdown",
   "metadata": {},
   "source": [
    "## 转置"
   ]
  },
  {
   "cell_type": "code",
   "execution_count": 259,
   "metadata": {
    "ExecuteTime": {
     "end_time": "2023-08-28T10:03:48.999936600Z",
     "start_time": "2023-08-28T10:03:47.879123300Z"
    }
   },
   "outputs": [
    {
     "data": {
      "text/html": [
       "<div>\n",
       "<style scoped>\n",
       "    .dataframe tbody tr th:only-of-type {\n",
       "        vertical-align: middle;\n",
       "    }\n",
       "\n",
       "    .dataframe tbody tr th {\n",
       "        vertical-align: top;\n",
       "    }\n",
       "\n",
       "    .dataframe thead th {\n",
       "        text-align: right;\n",
       "    }\n",
       "</style>\n",
       "<table border=\"1\" class=\"dataframe\">\n",
       "  <thead>\n",
       "    <tr style=\"text-align: right;\">\n",
       "      <th></th>\n",
       "      <th>A</th>\n",
       "      <th>B</th>\n",
       "      <th>C</th>\n",
       "      <th>D</th>\n",
       "    </tr>\n",
       "  </thead>\n",
       "  <tbody>\n",
       "    <tr>\n",
       "      <th>0</th>\n",
       "      <td>-0.272496</td>\n",
       "      <td>-0.352829</td>\n",
       "      <td>0.463889</td>\n",
       "      <td>0.712193</td>\n",
       "    </tr>\n",
       "    <tr>\n",
       "      <th>1</th>\n",
       "      <td>2.084525</td>\n",
       "      <td>2.585520</td>\n",
       "      <td>-0.168173</td>\n",
       "      <td>-1.564562</td>\n",
       "    </tr>\n",
       "    <tr>\n",
       "      <th>2</th>\n",
       "      <td>0.202141</td>\n",
       "      <td>-0.338019</td>\n",
       "      <td>-0.178463</td>\n",
       "      <td>0.998497</td>\n",
       "    </tr>\n",
       "    <tr>\n",
       "      <th>3</th>\n",
       "      <td>-1.254657</td>\n",
       "      <td>0.450336</td>\n",
       "      <td>1.593341</td>\n",
       "      <td>0.151471</td>\n",
       "    </tr>\n",
       "    <tr>\n",
       "      <th>4</th>\n",
       "      <td>-1.694684</td>\n",
       "      <td>-0.084137</td>\n",
       "      <td>-0.978055</td>\n",
       "      <td>-0.212781</td>\n",
       "    </tr>\n",
       "    <tr>\n",
       "      <th>5</th>\n",
       "      <td>-0.448056</td>\n",
       "      <td>0.069133</td>\n",
       "      <td>1.131621</td>\n",
       "      <td>-1.555782</td>\n",
       "    </tr>\n",
       "    <tr>\n",
       "      <th>6</th>\n",
       "      <td>0.405340</td>\n",
       "      <td>0.726877</td>\n",
       "      <td>-0.421899</td>\n",
       "      <td>-0.345312</td>\n",
       "    </tr>\n",
       "    <tr>\n",
       "      <th>7</th>\n",
       "      <td>1.565012</td>\n",
       "      <td>0.010758</td>\n",
       "      <td>-0.257429</td>\n",
       "      <td>-0.157207</td>\n",
       "    </tr>\n",
       "    <tr>\n",
       "      <th>8</th>\n",
       "      <td>-0.137183</td>\n",
       "      <td>1.312388</td>\n",
       "      <td>0.726485</td>\n",
       "      <td>0.390261</td>\n",
       "    </tr>\n",
       "    <tr>\n",
       "      <th>9</th>\n",
       "      <td>0.911358</td>\n",
       "      <td>0.915824</td>\n",
       "      <td>-0.137987</td>\n",
       "      <td>-1.159776</td>\n",
       "    </tr>\n",
       "  </tbody>\n",
       "</table>\n",
       "</div>"
      ],
      "text/plain": [
       "          A         B         C         D\n",
       "0 -0.272496 -0.352829  0.463889  0.712193\n",
       "1  2.084525  2.585520 -0.168173 -1.564562\n",
       "2  0.202141 -0.338019 -0.178463  0.998497\n",
       "3 -1.254657  0.450336  1.593341  0.151471\n",
       "4 -1.694684 -0.084137 -0.978055 -0.212781\n",
       "5 -0.448056  0.069133  1.131621 -1.555782\n",
       "6  0.405340  0.726877 -0.421899 -0.345312\n",
       "7  1.565012  0.010758 -0.257429 -0.157207\n",
       "8 -0.137183  1.312388  0.726485  0.390261\n",
       "9  0.911358  0.915824 -0.137987 -1.159776"
      ]
     },
     "execution_count": 259,
     "metadata": {},
     "output_type": "execute_result"
    }
   ],
   "source": [
    "df"
   ]
  },
  {
   "cell_type": "code",
   "execution_count": 260,
   "metadata": {
    "ExecuteTime": {
     "end_time": "2023-08-28T10:03:49.005935200Z",
     "start_time": "2023-08-28T10:03:47.895122400Z"
    }
   },
   "outputs": [
    {
     "data": {
      "text/html": [
       "<div>\n",
       "<style scoped>\n",
       "    .dataframe tbody tr th:only-of-type {\n",
       "        vertical-align: middle;\n",
       "    }\n",
       "\n",
       "    .dataframe tbody tr th {\n",
       "        vertical-align: top;\n",
       "    }\n",
       "\n",
       "    .dataframe thead th {\n",
       "        text-align: right;\n",
       "    }\n",
       "</style>\n",
       "<table border=\"1\" class=\"dataframe\">\n",
       "  <thead>\n",
       "    <tr style=\"text-align: right;\">\n",
       "      <th></th>\n",
       "      <th>0</th>\n",
       "      <th>1</th>\n",
       "      <th>2</th>\n",
       "      <th>3</th>\n",
       "      <th>4</th>\n",
       "    </tr>\n",
       "  </thead>\n",
       "  <tbody>\n",
       "    <tr>\n",
       "      <th>A</th>\n",
       "      <td>-0.272496</td>\n",
       "      <td>2.084525</td>\n",
       "      <td>0.202141</td>\n",
       "      <td>-1.254657</td>\n",
       "      <td>-1.694684</td>\n",
       "    </tr>\n",
       "    <tr>\n",
       "      <th>B</th>\n",
       "      <td>-0.352829</td>\n",
       "      <td>2.585520</td>\n",
       "      <td>-0.338019</td>\n",
       "      <td>0.450336</td>\n",
       "      <td>-0.084137</td>\n",
       "    </tr>\n",
       "    <tr>\n",
       "      <th>C</th>\n",
       "      <td>0.463889</td>\n",
       "      <td>-0.168173</td>\n",
       "      <td>-0.178463</td>\n",
       "      <td>1.593341</td>\n",
       "      <td>-0.978055</td>\n",
       "    </tr>\n",
       "    <tr>\n",
       "      <th>D</th>\n",
       "      <td>0.712193</td>\n",
       "      <td>-1.564562</td>\n",
       "      <td>0.998497</td>\n",
       "      <td>0.151471</td>\n",
       "      <td>-0.212781</td>\n",
       "    </tr>\n",
       "  </tbody>\n",
       "</table>\n",
       "</div>"
      ],
      "text/plain": [
       "          0         1         2         3         4\n",
       "A -0.272496  2.084525  0.202141 -1.254657 -1.694684\n",
       "B -0.352829  2.585520 -0.338019  0.450336 -0.084137\n",
       "C  0.463889 -0.168173 -0.178463  1.593341 -0.978055\n",
       "D  0.712193 -1.564562  0.998497  0.151471 -0.212781"
      ]
     },
     "execution_count": 260,
     "metadata": {},
     "output_type": "execute_result"
    }
   ],
   "source": [
    "df[:5].T"
   ]
  },
  {
   "cell_type": "markdown",
   "metadata": {},
   "source": [
    "## 和 numpy的函数互相操作"
   ]
  },
  {
   "cell_type": "code",
   "execution_count": 261,
   "metadata": {
    "ExecuteTime": {
     "end_time": "2023-08-28T10:03:49.005935200Z",
     "start_time": "2023-08-28T10:03:47.909124300Z"
    }
   },
   "outputs": [
    {
     "data": {
      "text/html": [
       "<div>\n",
       "<style scoped>\n",
       "    .dataframe tbody tr th:only-of-type {\n",
       "        vertical-align: middle;\n",
       "    }\n",
       "\n",
       "    .dataframe tbody tr th {\n",
       "        vertical-align: top;\n",
       "    }\n",
       "\n",
       "    .dataframe thead th {\n",
       "        text-align: right;\n",
       "    }\n",
       "</style>\n",
       "<table border=\"1\" class=\"dataframe\">\n",
       "  <thead>\n",
       "    <tr style=\"text-align: right;\">\n",
       "      <th></th>\n",
       "      <th>A</th>\n",
       "      <th>B</th>\n",
       "      <th>C</th>\n",
       "      <th>D</th>\n",
       "    </tr>\n",
       "  </thead>\n",
       "  <tbody>\n",
       "    <tr>\n",
       "      <th>0</th>\n",
       "      <td>0.761477</td>\n",
       "      <td>0.702697</td>\n",
       "      <td>1.590246</td>\n",
       "      <td>2.038457</td>\n",
       "    </tr>\n",
       "    <tr>\n",
       "      <th>1</th>\n",
       "      <td>8.040772</td>\n",
       "      <td>13.270190</td>\n",
       "      <td>0.845208</td>\n",
       "      <td>0.209180</td>\n",
       "    </tr>\n",
       "    <tr>\n",
       "      <th>2</th>\n",
       "      <td>1.224021</td>\n",
       "      <td>0.713182</td>\n",
       "      <td>0.836555</td>\n",
       "      <td>2.714199</td>\n",
       "    </tr>\n",
       "    <tr>\n",
       "      <th>3</th>\n",
       "      <td>0.285174</td>\n",
       "      <td>1.568839</td>\n",
       "      <td>4.920161</td>\n",
       "      <td>1.163545</td>\n",
       "    </tr>\n",
       "    <tr>\n",
       "      <th>4</th>\n",
       "      <td>0.183657</td>\n",
       "      <td>0.919305</td>\n",
       "      <td>0.376042</td>\n",
       "      <td>0.808333</td>\n",
       "    </tr>\n",
       "    <tr>\n",
       "      <th>5</th>\n",
       "      <td>0.638869</td>\n",
       "      <td>1.071579</td>\n",
       "      <td>3.100678</td>\n",
       "      <td>0.211024</td>\n",
       "    </tr>\n",
       "    <tr>\n",
       "      <th>6</th>\n",
       "      <td>1.499812</td>\n",
       "      <td>2.068611</td>\n",
       "      <td>0.655800</td>\n",
       "      <td>0.708000</td>\n",
       "    </tr>\n",
       "    <tr>\n",
       "      <th>7</th>\n",
       "      <td>4.782732</td>\n",
       "      <td>1.010817</td>\n",
       "      <td>0.773036</td>\n",
       "      <td>0.854527</td>\n",
       "    </tr>\n",
       "    <tr>\n",
       "      <th>8</th>\n",
       "      <td>0.871811</td>\n",
       "      <td>3.715034</td>\n",
       "      <td>2.067799</td>\n",
       "      <td>1.477367</td>\n",
       "    </tr>\n",
       "    <tr>\n",
       "      <th>9</th>\n",
       "      <td>2.487699</td>\n",
       "      <td>2.498833</td>\n",
       "      <td>0.871110</td>\n",
       "      <td>0.313556</td>\n",
       "    </tr>\n",
       "  </tbody>\n",
       "</table>\n",
       "</div>"
      ],
      "text/plain": [
       "          A          B         C         D\n",
       "0  0.761477   0.702697  1.590246  2.038457\n",
       "1  8.040772  13.270190  0.845208  0.209180\n",
       "2  1.224021   0.713182  0.836555  2.714199\n",
       "3  0.285174   1.568839  4.920161  1.163545\n",
       "4  0.183657   0.919305  0.376042  0.808333\n",
       "5  0.638869   1.071579  3.100678  0.211024\n",
       "6  1.499812   2.068611  0.655800  0.708000\n",
       "7  4.782732   1.010817  0.773036  0.854527\n",
       "8  0.871811   3.715034  2.067799  1.477367\n",
       "9  2.487699   2.498833  0.871110  0.313556"
      ]
     },
     "execution_count": 261,
     "metadata": {},
     "output_type": "execute_result"
    }
   ],
   "source": [
    "np.exp(df)"
   ]
  },
  {
   "cell_type": "code",
   "execution_count": 262,
   "metadata": {
    "ExecuteTime": {
     "end_time": "2023-08-28T10:03:49.008935500Z",
     "start_time": "2023-08-28T10:03:47.925131700Z"
    }
   },
   "outputs": [
    {
     "data": {
      "text/plain": [
       "array([[-0.27249582, -0.35282883,  0.46388876,  0.71219336],\n",
       "       [ 2.08452509,  2.58552015, -0.1681726 , -1.56456177],\n",
       "       [ 0.20214141, -0.33801926, -0.17846347,  0.99849688],\n",
       "       [-1.25465733,  0.45033567,  1.59334131,  0.15147109],\n",
       "       [-1.6946836 , -0.08413731, -0.97805467, -0.21278134],\n",
       "       [-0.4480559 ,  0.06913306,  1.13162068, -1.55578245],\n",
       "       [ 0.40533997,  0.72687723, -0.42189944, -0.34531171],\n",
       "       [ 1.56501202,  0.01075842, -0.25742944, -0.15720679],\n",
       "       [-0.13718306,  1.31238779,  0.72648476,  0.39026138],\n",
       "       [ 0.9113582 ,  0.91582391, -0.1379874 , -1.15977592]])"
      ]
     },
     "execution_count": 262,
     "metadata": {},
     "output_type": "execute_result"
    }
   ],
   "source": [
    "#np.asarray()是NumPy库中的一个函数，用于将输入（input）转换为NumPy数组。\n",
    "np.asarray(df)"
   ]
  },
  {
   "cell_type": "markdown",
   "metadata": {},
   "source": [
    "`DataFrame`不是作为`ndarray`的替代品而设计的，因为它的索引语义和数据模型在某些方面与n维数组有很大的区别。这意味着`DataFrame`和`ndarray`之间存在一些功能和行为上的差异。\n",
    "\n",
    "`Series`实现了`__array_ufunc__`，这使得它可以与`NumPy`的通用函数（`universal functions--ufunc`）一起使用。通用函数是一组对数组执行元素级操作的函数，例如加法、乘法、平方根等。\n",
    "\n",
    "在`Series`中，`ufunc`被应用于底层的数组。也就是说，`Series`对象中的数据存储在一个数组中，而`ufunc`将直接作用于这个数组上。"
   ]
  },
  {
   "cell_type": "code",
   "execution_count": 263,
   "metadata": {
    "ExecuteTime": {
     "end_time": "2023-08-28T10:03:49.008935500Z",
     "start_time": "2023-08-28T10:03:47.940122500Z"
    }
   },
   "outputs": [
    {
     "data": {
      "text/plain": [
       "0    1\n",
       "1    2\n",
       "2    3\n",
       "3    4\n",
       "dtype: int64"
      ]
     },
     "execution_count": 263,
     "metadata": {},
     "output_type": "execute_result"
    }
   ],
   "source": [
    "ser = pd.Series([1,2,3,4])\n",
    "ser"
   ]
  },
  {
   "cell_type": "code",
   "execution_count": 264,
   "metadata": {
    "ExecuteTime": {
     "end_time": "2023-08-28T10:03:49.009935100Z",
     "start_time": "2023-08-28T10:03:47.954125500Z"
    }
   },
   "outputs": [
    {
     "data": {
      "text/plain": [
       "0     2.718282\n",
       "1     7.389056\n",
       "2    20.085537\n",
       "3    54.598150\n",
       "dtype: float64"
      ]
     },
     "execution_count": 264,
     "metadata": {},
     "output_type": "execute_result"
    }
   ],
   "source": [
    "np.exp(ser)"
   ]
  },
  {
   "cell_type": "code",
   "execution_count": 265,
   "metadata": {
    "ExecuteTime": {
     "end_time": "2023-08-28T10:03:49.022934900Z",
     "start_time": "2023-08-28T10:03:47.971122300Z"
    }
   },
   "outputs": [
    {
     "data": {
      "text/plain": [
       "0    1\n",
       "1    2\n",
       "2    3\n",
       "3    4\n",
       "dtype: int64"
      ]
     },
     "execution_count": 265,
     "metadata": {},
     "output_type": "execute_result"
    }
   ],
   "source": [
    "ser#可见并不会影响其本身"
   ]
  },
  {
   "cell_type": "markdown",
   "metadata": {},
   "source": [
    "当多个`Series`对象被传递给一个`ufunc`函数时，在执行操作之前会进行对齐（`alignment`）。\n",
    "\n",
    "类似于库中的其他部分，`pandas`会自动对标签化的输入进行对齐，作为`ufunc`函数的多个输入的一部分。例如，在两个具有不同排序标签的`Series`上使用`numpy.remainder()`函数时，它们会在执行操作之前进行对齐。\n",
    "**注:**\n",
    "`numpy.remainder()`是NumPy库中的一个函数，用于计算两个数组的元素级别取模（求余）运算。\n",
    "\n",
    "该函数接受两个参数，分别是被除数数组`x1`和除数数组`x2`。它返回一个新的数组，其中的每个元素都是将`x1`中对应元素除以`x2`中对应元素后的余数。\n",
    "\n",
    "以下是`numpy.remainder()`函数的示例：\n",
    "\n",
    "```python\n",
    "import numpy as np\n",
    "\n",
    "x1 = np.array([10, 20, 30])\n",
    "x2 = np.array([3, 7, 4])\n",
    "result = np.remainder(x1, x2)\n",
    "\n",
    "print(result)\n",
    "```\n",
    "\n",
    "输出：\n",
    "\n",
    "```\n",
    "[1 6 2]\n",
    "```\n",
    "\n",
    "在上面的示例中，我们将两个NumPy数组`x1`和`x2`传递给`numpy.remainder()`函数，它返回一个新的数组`result`，其中包含`x1`对应元素除以`x2`对应元素后的余数。因此，10除以3的余数为1，20除以7的余数为6，30除以4的余数为2。\n",
    "\n",
    "`numpy.remainder()`函数在数值计算中经常用于执行取模运算。它可以应用于整数数组、浮点数数组以及其他支持元素级别计算的NumPy数组类型。需要注意的是，当除数为0时，函数将返回0作为结果，而不会引发除以零的异常。"
   ]
  },
  {
   "cell_type": "code",
   "execution_count": 266,
   "metadata": {
    "ExecuteTime": {
     "end_time": "2023-08-28T10:03:49.023934900Z",
     "start_time": "2023-08-28T10:03:47.988124700Z"
    }
   },
   "outputs": [
    {
     "data": {
      "text/plain": [
       "a    1\n",
       "b    2\n",
       "c    3\n",
       "dtype: int64"
      ]
     },
     "execution_count": 266,
     "metadata": {},
     "output_type": "execute_result"
    }
   ],
   "source": [
    "ser1 = pd.Series([1, 2, 3], index=[\"a\", \"b\", \"c\"])\n",
    "ser2 = pd.Series([1, 3, 5], index=[\"b\", \"a\", \"c\"])\n",
    "ser1"
   ]
  },
  {
   "cell_type": "code",
   "execution_count": 267,
   "metadata": {
    "ExecuteTime": {
     "end_time": "2023-08-28T10:03:49.023934900Z",
     "start_time": "2023-08-28T10:03:48.001132200Z"
    }
   },
   "outputs": [
    {
     "data": {
      "text/plain": [
       "b    1\n",
       "a    3\n",
       "c    5\n",
       "dtype: int64"
      ]
     },
     "execution_count": 267,
     "metadata": {},
     "output_type": "execute_result"
    }
   ],
   "source": [
    "ser2"
   ]
  },
  {
   "cell_type": "code",
   "execution_count": 268,
   "metadata": {
    "ExecuteTime": {
     "end_time": "2023-08-28T10:03:49.023934900Z",
     "start_time": "2023-08-28T10:03:48.015124600Z"
    }
   },
   "outputs": [
    {
     "data": {
      "text/plain": [
       "a    1\n",
       "b    0\n",
       "c    3\n",
       "dtype: int64"
      ]
     },
     "execution_count": 268,
     "metadata": {},
     "output_type": "execute_result"
    }
   ],
   "source": [
    "np.remainder(ser1,ser2)"
   ]
  },
  {
   "cell_type": "markdown",
   "metadata": {},
   "source": [
    "通常情况下，将两个索引的并集取出，并且对于不重叠的值，使用缺失值进行填充。"
   ]
  },
  {
   "cell_type": "code",
   "execution_count": 269,
   "metadata": {
    "ExecuteTime": {
     "end_time": "2023-08-28T10:03:49.024934800Z",
     "start_time": "2023-08-28T10:03:48.033810700Z"
    }
   },
   "outputs": [
    {
     "data": {
      "text/plain": [
       "b    2\n",
       "c    4\n",
       "d    6\n",
       "dtype: int64"
      ]
     },
     "execution_count": 269,
     "metadata": {},
     "output_type": "execute_result"
    }
   ],
   "source": [
    "ser3 = pd.Series([2, 4, 6], index=[\"b\", \"c\", \"d\"])\n",
    "ser3"
   ]
  },
  {
   "cell_type": "code",
   "execution_count": 270,
   "metadata": {
    "ExecuteTime": {
     "end_time": "2023-08-28T10:03:49.024934800Z",
     "start_time": "2023-08-28T10:03:48.048809700Z"
    }
   },
   "outputs": [
    {
     "data": {
      "text/plain": [
       "a    NaN\n",
       "b    0.0\n",
       "c    3.0\n",
       "d    NaN\n",
       "dtype: float64"
      ]
     },
     "execution_count": 270,
     "metadata": {},
     "output_type": "execute_result"
    }
   ],
   "source": [
    "np.remainder(ser1,ser3)"
   ]
  },
  {
   "cell_type": "markdown",
   "metadata": {},
   "source": [
    "当将一个二元`ufunc`（二元通用函数,如:加法,减法）应用于一个`Series`和一个`Index`时，`Series`的实现方式优先，并且返回一个`Series`对象。"
   ]
  },
  {
   "cell_type": "code",
   "execution_count": 271,
   "metadata": {
    "ExecuteTime": {
     "end_time": "2023-08-28T10:03:49.024934800Z",
     "start_time": "2023-08-28T10:03:48.062809900Z"
    }
   },
   "outputs": [
    {
     "data": {
      "text/plain": [
       "0    4\n",
       "1    5\n",
       "2    6\n",
       "dtype: int64"
      ]
     },
     "execution_count": 271,
     "metadata": {},
     "output_type": "execute_result"
    }
   ],
   "source": [
    "ser = pd.Series([1, 2, 3])\n",
    "idx = pd.Index([4,5,6])#pd.Index是pandas库中用于创建索引对象的函数。它返回一个Index对象，用于表示一维标签化的索引。\n",
    "np.maximum(ser,idx)"
   ]
  },
  {
   "cell_type": "markdown",
   "metadata": {},
   "source": [
    "输出结果是一个新的`Series`对象，其中的每个元素是`ser`和`idx`**对应位置**元素的最大值。在这个例子中，比较的结果是1和4的最大值（即4），2和5的最大值（即5），以及3和6的最大值（即6）。"
   ]
  },
  {
   "cell_type": "markdown",
   "metadata": {},
   "source": [
    "## 控制台显示\n",
    "简单的说,对于过大的数据,你可以使用.info()函数来查看其概要\n",
    "## DataFrame 列属性访问\n",
    "DataFrame列属性访问（DataFrame column attribute access）：指的是使用属性访问方式来访问DataFrame中的列。在pandas中，DataFrame是一个二维的带标签的数据结构，每个列都有一个唯一的标签或名称。通过列属性访问，可以使用点符号（.）和列名来访问DataFrame中的列数据。"
   ]
  },
  {
   "cell_type": "code",
   "execution_count": 272,
   "metadata": {
    "ExecuteTime": {
     "end_time": "2023-08-28T10:03:49.025927Z",
     "start_time": "2023-08-28T10:03:48.077810400Z"
    }
   },
   "outputs": [
    {
     "data": {
      "text/html": [
       "<div>\n",
       "<style scoped>\n",
       "    .dataframe tbody tr th:only-of-type {\n",
       "        vertical-align: middle;\n",
       "    }\n",
       "\n",
       "    .dataframe tbody tr th {\n",
       "        vertical-align: top;\n",
       "    }\n",
       "\n",
       "    .dataframe thead th {\n",
       "        text-align: right;\n",
       "    }\n",
       "</style>\n",
       "<table border=\"1\" class=\"dataframe\">\n",
       "  <thead>\n",
       "    <tr style=\"text-align: right;\">\n",
       "      <th></th>\n",
       "      <th>foo1</th>\n",
       "      <th>foo2</th>\n",
       "    </tr>\n",
       "  </thead>\n",
       "  <tbody>\n",
       "    <tr>\n",
       "      <th>0</th>\n",
       "      <td>0.604855</td>\n",
       "      <td>1.568471</td>\n",
       "    </tr>\n",
       "    <tr>\n",
       "      <th>1</th>\n",
       "      <td>0.567668</td>\n",
       "      <td>-1.111407</td>\n",
       "    </tr>\n",
       "    <tr>\n",
       "      <th>2</th>\n",
       "      <td>-0.575184</td>\n",
       "      <td>0.908364</td>\n",
       "    </tr>\n",
       "    <tr>\n",
       "      <th>3</th>\n",
       "      <td>-1.083471</td>\n",
       "      <td>0.519498</td>\n",
       "    </tr>\n",
       "    <tr>\n",
       "      <th>4</th>\n",
       "      <td>-0.430405</td>\n",
       "      <td>-0.427078</td>\n",
       "    </tr>\n",
       "  </tbody>\n",
       "</table>\n",
       "</div>"
      ],
      "text/plain": [
       "       foo1      foo2\n",
       "0  0.604855  1.568471\n",
       "1  0.567668 -1.111407\n",
       "2 -0.575184  0.908364\n",
       "3 -1.083471  0.519498\n",
       "4 -0.430405 -0.427078"
      ]
     },
     "execution_count": 272,
     "metadata": {},
     "output_type": "execute_result"
    }
   ],
   "source": [
    "df = pd.DataFrame({\"foo1\": np.random.randn(5), \"foo2\": np.random.randn(5)})\n",
    "df"
   ]
  },
  {
   "cell_type": "code",
   "execution_count": 273,
   "metadata": {
    "ExecuteTime": {
     "end_time": "2023-08-28T10:03:49.025927Z",
     "start_time": "2023-08-28T10:03:48.092811400Z"
    }
   },
   "outputs": [
    {
     "data": {
      "text/plain": [
       "0    0.604855\n",
       "1    0.567668\n",
       "2   -0.575184\n",
       "3   -1.083471\n",
       "4   -0.430405\n",
       "Name: foo1, dtype: float64"
      ]
     },
     "execution_count": 273,
     "metadata": {},
     "output_type": "execute_result"
    }
   ],
   "source": [
    "df.foo1"
   ]
  },
  {
   "cell_type": "code",
   "execution_count": 273,
   "metadata": {
    "ExecuteTime": {
     "end_time": "2023-08-28T10:03:49.025927Z",
     "start_time": "2023-08-28T10:03:48.107825600Z"
    }
   },
   "outputs": [],
   "source": []
  }
 ],
 "metadata": {
  "kernelspec": {
   "display_name": "Python 3 (ipykernel)",
   "language": "python",
   "name": "python3"
  },
  "language_info": {
   "codemirror_mode": {
    "name": "ipython",
    "version": 3
   },
   "file_extension": ".py",
   "mimetype": "text/x-python",
   "name": "python",
   "nbconvert_exporter": "python",
   "pygments_lexer": "ipython3",
   "version": "3.10.10"
  }
 },
 "nbformat": 4,
 "nbformat_minor": 1
}
